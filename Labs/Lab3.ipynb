{
  "nbformat": 4,
  "nbformat_minor": 0,
  "metadata": {
    "colab": {
      "provenance": [],
      "include_colab_link": true
    },
    "kernelspec": {
      "name": "python3",
      "display_name": "Python 3"
    },
    "language_info": {
      "name": "python"
    }
  },
  "cells": [
    {
      "cell_type": "markdown",
      "metadata": {
        "id": "view-in-github",
        "colab_type": "text"
      },
      "source": [
        "<a href=\"https://colab.research.google.com/github/yashhh22-soulreaper/dds/blob/main/Labs/Lab3.ipynb\" target=\"_parent\"><img src=\"https://colab.research.google.com/assets/colab-badge.svg\" alt=\"Open In Colab\"/></a>"
      ]
    },
    {
      "cell_type": "markdown",
      "source": [
        "# 🧪 Lab 3: Postfix Expression Evaluation using Stack\n",
        "\n",
        "## 🎯 Objective:\n",
        "Evaluate a postfix expression using a stack (LIFO approach)\n",
        "\n",
        "📘 As per 303105202 BTech syllabus  \n",
        "👨‍💻 Languages: Python (runs in Colab) + C (compiled via GCC in Colab)\n",
        "\n",
        "---\n",
        "\n",
        "### 💡 Example:\n",
        "Postfix: `53+62/*`  \n",
        "= ((5 + 3) * (6 / 2))  \n",
        "= 8 * 3  \n",
        "= **24**\n",
        "\n",
        "We will use a **stack** to evaluate the postfix expression step-by-step.\n"
      ],
      "metadata": {
        "id": "rgjwZgAiSD3H"
      }
    },
    {
      "cell_type": "markdown",
      "source": [
        "## C++"
      ],
      "metadata": {
        "id": "iDwvZsr9vduv"
      }
    },
    {
      "cell_type": "code",
      "execution_count": null,
      "metadata": {
        "id": "vGVRMI4RR_tM",
        "outputId": "5426ee90-19b1-458d-bbf4-15729347f214",
        "colab": {
          "base_uri": "https://localhost:8080/"
        }
      },
      "outputs": [
        {
          "output_type": "stream",
          "name": "stdout",
          "text": [
            "Writing lab3_postfix_eval.cpp\n"
          ]
        }
      ],
      "source": [
        "%%writefile lab3_postfix_eval.cpp\n",
        "\n",
        "#include <iostream>\n",
        "#include <stack>\n",
        "#include <cctype>\n",
        "using namespace std;\n",
        "\n",
        "int evaluate_postfix(string expr) {\n",
        "    stack<int> st;\n",
        "\n",
        "    for (char ch : expr) {\n",
        "        if (isdigit(ch)) {\n",
        "            st.push(ch - '0');\n",
        "        } else {\n",
        "            int b = st.top(); st.pop();\n",
        "            int a = st.top(); st.pop();\n",
        "\n",
        "            switch (ch) {\n",
        "                case '+': st.push(a + b); break;\n",
        "                case '-': st.push(a - b); break;\n",
        "                case '*': st.push(a * b); break;\n",
        "                case '/': st.push(a / b); break;\n",
        "            }\n",
        "        }\n",
        "    }\n",
        "\n",
        "    return st.top();\n",
        "}\n",
        "\n",
        "int main() {\n",
        "    string expr = \"53+62/*\";\n",
        "    cout << \"Postfix Expression: \" << expr << endl;\n",
        "    cout << \"Evaluated Result  : \" << evaluate_postfix(expr) << endl;\n",
        "    return 0;\n",
        "}\n",
        "\n"
      ]
    },
    {
      "cell_type": "code",
      "source": [
        "!g++ lab3_postfix_eval.cpp"
      ],
      "metadata": {
        "id": "Y1MljLnLviZo"
      },
      "execution_count": null,
      "outputs": []
    },
    {
      "cell_type": "code",
      "source": [
        "!./a.out"
      ],
      "metadata": {
        "id": "hEtQEJvnvnp0",
        "outputId": "c6dfede0-d26d-43b3-c1f4-a24eb6632c97",
        "colab": {
          "base_uri": "https://localhost:8080/"
        }
      },
      "execution_count": null,
      "outputs": [
        {
          "output_type": "stream",
          "name": "stdout",
          "text": [
            "Postfix Expression: 53+62/*\n",
            "Evaluated Result  : 24\n"
          ]
        }
      ]
    },
    {
      "cell_type": "markdown",
      "source": [
        "## Python"
      ],
      "metadata": {
        "id": "mA2Ylf1quy4o"
      }
    },
    {
      "cell_type": "code",
      "source": [
        "def evaluate_postfix(expression):\n",
        "    stack = []\n",
        "\n",
        "    for char in expression:\n",
        "        if char.isdigit():\n",
        "            stack.append(int(char))\n",
        "        else:\n",
        "            b = stack.pop()\n",
        "            a = stack.pop()\n",
        "            if char == '+':\n",
        "                stack.append(a + b)\n",
        "            elif char == '-':\n",
        "                stack.append(a - b)\n",
        "            elif char == '*':\n",
        "                stack.append(a * b)\n",
        "            elif char == '/':\n",
        "                stack.append(a // b)  # Use // for integer division\n",
        "\n",
        "    return stack.pop()\n",
        "\n",
        "# 🔍 Test\n",
        "expr = \"53+62/*\"  # ((5+3)*(6/2)) = 8*3 = 24\n",
        "print(\"Postfix Expression:\", expr)\n",
        "print(\"Evaluated Result:\", evaluate_postfix(expr))\n"
      ],
      "metadata": {
        "id": "FPi04APCSHPz"
      },
      "execution_count": null,
      "outputs": []
    },
    {
      "cell_type": "markdown",
      "source": [
        "---\n",
        "\n",
        "### 🧠 Explanation:\n",
        "\n",
        "1. **Operands (numbers)** are pushed to the stack\n",
        "2. When an **operator** is found:\n",
        "   - Pop two values (right and left operands)\n",
        "   - Apply the operator\n",
        "   - Push the result back into the stack\n",
        "3. Final result is at the top of the stack\n",
        "\n",
        "Now let’s implement it in **C**!\n"
      ],
      "metadata": {
        "id": "ij7pdpRBSKMV"
      }
    },
    {
      "cell_type": "markdown",
      "source": [
        "## C"
      ],
      "metadata": {
        "id": "ONOVXpLBu1-A"
      }
    },
    {
      "cell_type": "code",
      "source": [
        "# C code for postfix evaluation\n",
        "c_code = \"\"\"\n",
        "#include <stdio.h>\n",
        "#include <ctype.h>\n",
        "#define SIZE 100\n",
        "\n",
        "int stack[SIZE];\n",
        "int top = -1;\n",
        "\n",
        "void push(int value) {\n",
        "    stack[++top] = value;\n",
        "}\n",
        "\n",
        "int pop() {\n",
        "    return stack[top--];\n",
        "}\n",
        "\n",
        "int evaluate_postfix(char* expr) {\n",
        "    int i, a, b;\n",
        "    for (i = 0; expr[i] != '\\\\0'; i++) {\n",
        "        char ch = expr[i];\n",
        "\n",
        "        if (isdigit(ch)) {\n",
        "            push(ch - '0'); // Convert char to int\n",
        "        } else {\n",
        "            b = pop();\n",
        "            a = pop();\n",
        "            switch (ch) {\n",
        "                case '+': push(a + b); break;\n",
        "                case '-': push(a - b); break;\n",
        "                case '*': push(a * b); break;\n",
        "                case '/': push(a / b); break;\n",
        "            }\n",
        "        }\n",
        "    }\n",
        "    return pop();\n",
        "}\n",
        "\n",
        "int main() {\n",
        "    char expr[] = \"53+62/*\";\n",
        "    printf(\"Postfix Expression: %s\\\\n\", expr);\n",
        "    printf(\"Evaluated Result: %d\\\\n\", evaluate_postfix(expr));\n",
        "    return 0;\n",
        "}\n",
        "\"\"\"\n",
        "\n",
        "with open(\"lab3_postfix_eval.c\", \"w\") as f:\n",
        "    f.write(c_code)\n"
      ],
      "metadata": {
        "id": "qbxKL038SM_t"
      },
      "execution_count": null,
      "outputs": []
    },
    {
      "cell_type": "code",
      "source": [
        "!gcc lab3_postfix_eval.c -o lab3\n"
      ],
      "metadata": {
        "id": "jL1OHNXsSPdd"
      },
      "execution_count": null,
      "outputs": []
    },
    {
      "cell_type": "code",
      "source": [
        "!./lab3\n"
      ],
      "metadata": {
        "id": "Bw5LzGLGSRMv"
      },
      "execution_count": null,
      "outputs": []
    },
    {
      "cell_type": "markdown",
      "source": [
        "---\n",
        "\n",
        "## ✅ Summary:\n",
        "\n",
        "- Used a **stack** to evaluate a postfix (Reverse Polish) expression\n",
        "- Worked with both **Python** and **C**\n",
        "- Verified expressions like `53+62/*` step-by-step\n",
        "\n",
        "---\n",
        "\n",
        "## 📘 Viva Questions:\n",
        "\n",
        "1. Why is postfix easier to evaluate than infix?\n",
        "2. What happens when an operator is encountered?\n",
        "3. What is the time complexity of postfix evaluation?\n",
        "4. What if the expression is invalid?\n",
        "\n",
        "---\n",
        "\n",
        "⏭️ Next Lab: **Lab 4 – Tower of Hanoi using Stack or Recursion**\n"
      ],
      "metadata": {
        "id": "pNDgU3pnu6Zg"
      }
    }
  ]
}