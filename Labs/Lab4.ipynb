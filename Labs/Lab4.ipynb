{
  "nbformat": 4,
  "nbformat_minor": 0,
  "metadata": {
    "colab": {
      "provenance": [],
      "include_colab_link": true
    },
    "kernelspec": {
      "name": "python3",
      "display_name": "Python 3"
    },
    "language_info": {
      "name": "python"
    }
  },
  "cells": [
    {
      "cell_type": "markdown",
      "metadata": {
        "id": "view-in-github",
        "colab_type": "text"
      },
      "source": [
        "<a href=\"https://colab.research.google.com/github/yashhh22-soulreaper/dds/blob/main/Labs/Lab4.ipynb\" target=\"_parent\"><img src=\"https://colab.research.google.com/assets/colab-badge.svg\" alt=\"Open In Colab\"/></a>"
      ]
    },
    {
      "cell_type": "markdown",
      "source": [
        " # **LAB- 4:-  Towers of Hanoi using Stack**\n"
      ],
      "metadata": {
        "id": "-2VthHJxaMAK"
      }
    },
    {
      "cell_type": "markdown",
      "source": [
        "\n",
        "## 🎯 Objective:\n",
        "- Solve the classic **Tower of Hanoi** problem using recursion (stack-based call stack)\n",
        "- Understand how recursion simulates an implicit **function stack**\n",
        "- Implement in **Python**, **C**, and **C++**\n",
        "\n",
        "---\n",
        "\n",
        "## 🗼 Rules:\n",
        "1. Move one disk at a time.\n",
        "2. Only the top disk can be moved.\n",
        "3. A larger disk cannot be placed on a smaller one.\n",
        "\n",
        "---\n",
        "\n",
        "## 🧠 Recursive Logic:\n",
        "To move `n` disks from `A` to `C` using `B`:\n",
        "1. Move `n-1` disks from `A` to `B`\n",
        "2. Move disk `n` from `A` to `C`\n",
        "3. Move `n-1` disks from `B` to `C`\n"
      ],
      "metadata": {
        "id": "3ZbpVIQna2NA"
      }
    },
    {
      "cell_type": "markdown",
      "source": [
        "## C++"
      ],
      "metadata": {
        "id": "wnP2mf4Qyewe"
      }
    },
    {
      "cell_type": "markdown",
      "source": [
        "## **Towers of Hanoi using Stack in C++**"
      ],
      "metadata": {
        "id": "W7ZW6cAWc3PS"
      }
    },
    {
      "cell_type": "code",
      "source": [
        "%%writefile program.cpp\n",
        "#include <iostream>\n",
        "#include <stack>\n",
        "#include <climits>\n",
        "using namespace std;\n",
        "\n",
        "void moveDisk(stack<int> &src, stack<int> &dest, char s, char d) {\n",
        "    int pole1Top = src.empty() ? INT_MIN : src.top();\n",
        "    int pole2Top = dest.empty() ? INT_MIN : dest.top();\n",
        "\n",
        "    // Move disk logic based on top disk comparisons\n",
        "    if (src.empty()) {\n",
        "        src.push(dest.top());\n",
        "        dest.pop();\n",
        "        cout << \"Move disk \" << src.top() << \" from \" << d << \" to \" << s << endl;\n",
        "    } else if (dest.empty()) {\n",
        "        dest.push(src.top());\n",
        "        src.pop();\n",
        "        cout << \"Move disk \" << dest.top() << \" from \" << s << \" to \" << d << endl;\n",
        "    } else if (pole1Top > pole2Top) {\n",
        "        src.push(dest.top());\n",
        "        dest.pop();\n",
        "        cout << \"Move disk \" << src.top() << \" from \" << d << \" to \" << s << endl;\n",
        "    } else {\n",
        "        dest.push(src.top());\n",
        "        src.pop();\n",
        "        cout << \"Move disk \" << dest.top() << \" from \" << s << \" to \" << d << endl;\n",
        "    }\n",
        "}\n",
        "\n",
        "void towersOfHanoi(int n) {\n",
        "    stack<int> src, aux, dest;\n",
        "    char s = 'A', a = 'B', d = 'C';\n",
        "\n",
        "    int totalMoves = (1 << n) - 1; // 2^n - 1\n",
        "\n",
        "    // Initialize source stack\n",
        "    for (int i = n; i >= 1; i--)\n",
        "        src.push(i);\n",
        "\n",
        "    // Swap auxiliary and destination if number of disks is even\n",
        "    if (n % 2 == 0)\n",
        "        swap(a, d);\n",
        "\n",
        "    // Perform moves\n",
        "    for (int i = 1; i <= totalMoves; i++) {\n",
        "        if (i % 3 == 1)\n",
        "            moveDisk(src, dest, s, d);\n",
        "        else if (i % 3 == 2)\n",
        "            moveDisk(src, aux, s, a);\n",
        "        else\n",
        "            moveDisk(aux, dest, a, d);\n",
        "    }\n",
        "}\n",
        "\n",
        "int main() {\n",
        "    int n;\n",
        "    cout << \"Enter number of disks: \";\n",
        "    cin >> n;\n",
        "    towersOfHanoi(n);\n",
        "    return 0;\n",
        "}\n"
      ],
      "metadata": {
        "colab": {
          "base_uri": "https://localhost:8080/"
        },
        "id": "ar19MESQcHDe",
        "outputId": "14ba44fd-fd75-43c8-c0e0-94c02c85f67e"
      },
      "execution_count": null,
      "outputs": [
        {
          "output_type": "stream",
          "name": "stdout",
          "text": [
            "Writing program.cpp\n"
          ]
        }
      ]
    },
    {
      "cell_type": "code",
      "source": [
        "!g++ program.cpp -o program\n"
      ],
      "metadata": {
        "id": "sXIkjrlXiR4v"
      },
      "execution_count": null,
      "outputs": []
    },
    {
      "cell_type": "code",
      "source": [
        "!./program\n"
      ],
      "metadata": {
        "colab": {
          "base_uri": "https://localhost:8080/"
        },
        "id": "N-ux9jkqiTMZ",
        "outputId": "aa3ebaa6-4895-4a82-93d6-2158539dc9b3"
      },
      "execution_count": null,
      "outputs": [
        {
          "output_type": "stream",
          "name": "stdout",
          "text": [
            "Enter number of disks: 3\n",
            "Move disk 1 from A to C\n",
            "Move disk 2 from A to B\n",
            "Move disk 1 from C to B\n",
            "Move disk 3 from A to C\n",
            "Move disk 1 from B to A\n",
            "Move disk 2 from B to C\n",
            "Move disk 1 from A to C\n"
          ]
        }
      ]
    },
    {
      "cell_type": "markdown",
      "source": [
        "## **Towers of Hanoi using C++ Implementation (Recursive)**"
      ],
      "metadata": {
        "id": "2yz76qfQyp7K"
      }
    },
    {
      "cell_type": "code",
      "source": [
        "%%writefile lab4_hanoi.cpp\n",
        "#include <iostream>\n",
        "using namespace std;\n",
        "\n",
        "void hanoi(int n, char source, char destination, char auxiliary) {\n",
        "    if (n == 1) {\n",
        "        cout << \"Move disk 1 from \" << source << \" to \" << destination << endl;\n",
        "        return;\n",
        "    }\n",
        "    hanoi(n - 1, source, auxiliary, destination);\n",
        "    cout << \"Move disk \" << n << \" from \" << source << \" to \" << destination << endl;\n",
        "    hanoi(n - 1, auxiliary, destination, source);\n",
        "}\n",
        "\n",
        "int main() {\n",
        "    int n = 3;\n",
        "    cout << \"🧪 Tower of Hanoi (C++) - Steps for \" << n << \" disks:\" << endl << endl;\n",
        "    hanoi(n, 'A', 'C', 'B');\n",
        "    return 0;\n",
        "}\n"
      ],
      "metadata": {
        "id": "7EKP_eB7xpg6",
        "outputId": "1c6ea141-c6d0-4f57-d30d-4e79ca0117b2",
        "colab": {
          "base_uri": "https://localhost:8080/"
        }
      },
      "execution_count": null,
      "outputs": [
        {
          "output_type": "stream",
          "name": "stdout",
          "text": [
            "Writing lab4_hanoi.cpp\n"
          ]
        }
      ]
    },
    {
      "cell_type": "code",
      "source": [
        "!g++ lab4_hanoi.cpp -o lab4_cpp && ./lab4_cpp"
      ],
      "metadata": {
        "id": "fuOzbXX1x9sI",
        "outputId": "b6bd7d1d-8eeb-431d-9e0e-38cf2a08c989",
        "colab": {
          "base_uri": "https://localhost:8080/"
        }
      },
      "execution_count": null,
      "outputs": [
        {
          "output_type": "stream",
          "name": "stdout",
          "text": [
            "🧪 Tower of Hanoi (C++) - Steps for 3 disks:\n",
            "\n",
            "Move disk 1 from A to C\n",
            "Move disk 2 from A to B\n",
            "Move disk 1 from C to B\n",
            "Move disk 3 from A to C\n",
            "Move disk 1 from B to A\n",
            "Move disk 2 from B to C\n",
            "Move disk 1 from A to C\n"
          ]
        }
      ]
    },
    {
      "cell_type": "markdown",
      "source": [
        "## **Python Code**"
      ],
      "metadata": {
        "id": "mTWYyhQPq7bu"
      }
    },
    {
      "cell_type": "code",
      "source": [
        "INT_MIN = float('-inf')\n",
        "\n",
        "class Stack:\n",
        "    def __init__(self):\n",
        "        self.items = []\n",
        "\n",
        "    def push(self, val):\n",
        "        self.items.append(val)\n",
        "\n",
        "    def pop(self):\n",
        "        if self.is_empty():\n",
        "            return INT_MIN\n",
        "        return self.items.pop()\n",
        "\n",
        "    def top(self):\n",
        "        return self.items[-1] if not self.is_empty() else INT_MIN\n",
        "\n",
        "    def is_empty(self):\n",
        "        return len(self.items) == 0\n",
        "\n",
        "def move_disk(src, dest, s_name, d_name):\n",
        "    pole1Top = src.top()\n",
        "    pole2Top = dest.top()\n",
        "\n",
        "    if src.is_empty():\n",
        "        disk = dest.pop()\n",
        "        src.push(disk)\n",
        "        print(f\"Move disk {disk} from {d_name} to {s_name}\")\n",
        "    elif dest.is_empty():\n",
        "        disk = src.pop()\n",
        "        dest.push(disk)\n",
        "        print(f\"Move disk {disk} from {s_name} to {d_name}\")\n",
        "    elif pole1Top > pole2Top:\n",
        "        disk = dest.pop()\n",
        "        src.push(disk)\n",
        "        print(f\"Move disk {disk} from {d_name} to {s_name}\")\n",
        "    else:\n",
        "        disk = src.pop()\n",
        "        dest.push(disk)\n",
        "        print(f\"Move disk {disk} from {s_name} to {d_name}\")\n",
        "\n",
        "def towers_of_hanoi(n):\n",
        "    src = Stack()\n",
        "    aux = Stack()\n",
        "    dest = Stack()\n",
        "\n",
        "    s, a, d = 'A', 'B', 'C'\n",
        "\n",
        "    # If even number of disks, swap destination and auxiliary\n",
        "    if n % 2 == 0:\n",
        "        a, d = d, a\n",
        "\n",
        "    # Initialize source stack with disks\n",
        "    for i in range(n, 0, -1):\n",
        "        src.push(i)\n",
        "\n",
        "    total_moves = (1 << n) - 1  # 2^n - 1\n",
        "\n",
        "    for i in range(1, total_moves + 1):\n",
        "        if i % 3 == 1:\n",
        "            move_disk(src, dest, s, d)\n",
        "        elif i % 3 == 2:\n",
        "            move_disk(src, aux, s, a)\n",
        "        else:\n",
        "            move_disk(aux, dest, a, d)\n",
        "\n",
        "# Driver Code\n",
        "if __name__ == \"__main__\":\n",
        "    n = int(input(\"Enter number of disks: \"))\n",
        "    towers_of_hanoi(n)\n"
      ],
      "metadata": {
        "id": "Zg7RAwraq_6M",
        "outputId": "c24b6c45-7ab6-453f-861f-9986adb31f5c",
        "colab": {
          "base_uri": "https://localhost:8080/"
        }
      },
      "execution_count": null,
      "outputs": [
        {
          "output_type": "stream",
          "name": "stdout",
          "text": [
            "Enter number of disks: 3\n",
            "Move disk 1 from A to C\n",
            "Move disk 2 from A to B\n",
            "Move disk 1 from C to B\n",
            "Move disk 3 from A to C\n",
            "Move disk 1 from B to A\n",
            "Move disk 2 from B to C\n",
            "Move disk 1 from A to C\n"
          ]
        }
      ]
    },
    {
      "cell_type": "markdown",
      "source": [
        "## **Towers of Hanoi using Stack in C**"
      ],
      "metadata": {
        "id": "rYBse_0wcler"
      }
    },
    {
      "cell_type": "code",
      "source": [
        "c_code = \"\"\"\n",
        "#include <stdio.h>\n",
        "#include <limits.h>\n",
        "\n",
        "#define MAX 64\n",
        "\n",
        "typedef struct {\n",
        "    int items[MAX];\n",
        "    int top;\n",
        "} Stack;\n",
        "\n",
        "// Initialize stack\n",
        "void init(Stack *s) {\n",
        "    s->top = -1;\n",
        "}\n",
        "\n",
        "// Check if stack is empty\n",
        "int isEmpty(Stack *s) {\n",
        "    return s->top == -1;\n",
        "}\n",
        "\n",
        "// Push to stack\n",
        "void push(Stack *s, int val) {\n",
        "    if (s->top < MAX - 1) {\n",
        "        s->items[++(s->top)] = val;\n",
        "    }\n",
        "}\n",
        "\n",
        "// Pop from stack\n",
        "int pop(Stack *s) {\n",
        "    if (!isEmpty(s)) {\n",
        "        return s->items[(s->top)--];\n",
        "    }\n",
        "    return INT_MIN;\n",
        "}\n",
        "\n",
        "// Peek top value\n",
        "int peek(Stack *s) {\n",
        "    if (!isEmpty(s)) {\n",
        "        return s->items[s->top];\n",
        "    }\n",
        "    return INT_MIN;\n",
        "}\n",
        "\n",
        "// Move disk between two pegs\n",
        "void moveDisk(Stack *src, Stack *dest, char s, char d) {\n",
        "    int top1 = peek(src);\n",
        "    int top2 = peek(dest);\n",
        "\n",
        "    if (isEmpty(src)) {\n",
        "        push(src, pop(dest));\n",
        "        printf(\"Move disk %d from %c to %c\\\\n\", peek(src), d, s);\n",
        "    } else if (isEmpty(dest)) {\n",
        "        push(dest, pop(src));\n",
        "        printf(\"Move disk %d from %c to %c\\\\n\", peek(dest), s, d);\n",
        "    } else if (top1 > top2) {\n",
        "        push(src, pop(dest));\n",
        "        printf(\"Move disk %d from %c to %c\\\\n\", peek(src), d, s);\n",
        "    } else {\n",
        "        push(dest, pop(src));\n",
        "        printf(\"Move disk %d from %c to %c\\\\n\", peek(dest), s, d);\n",
        "    }\n",
        "}\n",
        "\n",
        "// Hanoi driver function\n",
        "void towersOfHanoi(int n) {\n",
        "    Stack src, aux, dest;\n",
        "    init(&src); init(&aux); init(&dest);\n",
        "\n",
        "    char s = 'A', a = 'B', d = 'C';\n",
        "\n",
        "    int totalMoves = (1 << n) - 1; // 2^n - 1\n",
        "\n",
        "    for (int i = n; i >= 1; i--) {\n",
        "        push(&src, i);\n",
        "    }\n",
        "\n",
        "    // Swap aux and dest if number of disks is even\n",
        "    if (n % 2 == 0) {\n",
        "        char temp = d;\n",
        "        d = a;\n",
        "        a = temp;\n",
        "    }\n",
        "\n",
        "    for (int i = 1; i <= totalMoves; i++) {\n",
        "        if (i % 3 == 1)\n",
        "            moveDisk(&src, &dest, s, d);\n",
        "        else if (i % 3 == 2)\n",
        "            moveDisk(&src, &aux, s, a);\n",
        "        else\n",
        "            moveDisk(&aux, &dest, a, d);\n",
        "    }\n",
        "}\n",
        "\n",
        "int main() {\n",
        "    int n;\n",
        "    printf(\"Enter number of disks: \");\n",
        "    scanf(\"%d\", &n);\n",
        "    towersOfHanoi(n);\n",
        "    return 0;\n",
        "}\n",
        "\n",
        "\"\"\"\n",
        "\n",
        "with open(\"lab4.c\", \"w\") as f:\n",
        "    f.write(c_code)"
      ],
      "metadata": {
        "id": "2SHPVlducsTd"
      },
      "execution_count": null,
      "outputs": []
    },
    {
      "cell_type": "code",
      "source": [
        "# Compile the C program\n",
        "!gcc lab4.c -o lab4"
      ],
      "metadata": {
        "id": "peml3SpSzZBB"
      },
      "execution_count": null,
      "outputs": []
    },
    {
      "cell_type": "code",
      "source": [
        "# Run the compiled C executable\n",
        "!./lab4"
      ],
      "metadata": {
        "id": "zEWLJ5g3zcpB",
        "colab": {
          "base_uri": "https://localhost:8080/"
        },
        "outputId": "4c6055b8-f1b9-4c9c-e701-38f0712489fd"
      },
      "execution_count": null,
      "outputs": [
        {
          "output_type": "stream",
          "name": "stdout",
          "text": [
            "Enter number of disks: 3\n",
            "Move disk 1 from A to C\n",
            "Move disk 2 from A to B\n",
            "Move disk 1 from C to B\n",
            "Move disk 3 from A to C\n",
            "Move disk 1 from B to A\n",
            "Move disk 2 from B to C\n",
            "Move disk 1 from A to C\n"
          ]
        }
      ]
    },
    {
      "cell_type": "markdown",
      "source": [
        "---\n",
        "\n",
        "## ✅ Summary\n",
        "\n",
        "- Tower of Hanoi is a recursive problem modeled using the **call stack**\n",
        "- Recursively breaks down into sub-problems: move `n-1` disks\n",
        "- Implemented in **Python**, **C**, and **C++**\n",
        "\n",
        "---\n",
        "\n",
        "## 📘 Viva Questions:\n",
        "\n",
        "1. What is recursion?\n",
        "2. What is the base case in Tower of Hanoi?\n",
        "3. How many moves are required for `n` disks?\n",
        "   - Answer: `2^n - 1`\n",
        "4. What data structure supports recursion internally?\n",
        "   - Answer: Stack (function call stack)\n",
        "\n",
        "⏭️ Next: Lab 5 – Queue using Array\n"
      ],
      "metadata": {
        "id": "QhGze8VE7Eii"
      }
    }
  ]
}