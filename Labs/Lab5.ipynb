{
  "nbformat": 4,
  "nbformat_minor": 0,
  "metadata": {
    "colab": {
      "provenance": [],
      "include_colab_link": true
    },
    "kernelspec": {
      "name": "python3",
      "display_name": "Python 3"
    },
    "language_info": {
      "name": "python"
    }
  },
  "cells": [
    {
      "cell_type": "markdown",
      "metadata": {
        "id": "view-in-github",
        "colab_type": "text"
      },
      "source": [
        "<a href=\"https://colab.research.google.com/github/yashhh22-soulreaper/dds/blob/main/Labs/Lab5.ipynb\" target=\"_parent\"><img src=\"https://colab.research.google.com/assets/colab-badge.svg\" alt=\"Open In Colab\"/></a>"
      ]
    },
    {
      "cell_type": "markdown",
      "source": [
        " # **LAB- 5:- Queue Implementation with Operations**\n"
      ],
      "metadata": {
        "id": "-2VthHJxaMAK"
      }
    },
    {
      "cell_type": "markdown",
      "source": [
        "\n",
        "## 🎯 Objective:\n",
        "Implement a **linear queue** using array with operations:\n",
        "- `enqueue` (insert)\n",
        "- `dequeue` (remove)\n",
        "- `peek` (view front)\n",
        "- `traverse` (display queue)\n",
        "- `isFull` / `isEmpty` (status)\n",
        "\n",
        "📘 As per BTech syllabus 303105202  \n",
        "📚 Data Structure: Queue (FIFO – First In, First Out)\n"
      ],
      "metadata": {
        "id": "W6UTj7qibo7V"
      }
    },
    {
      "cell_type": "markdown",
      "source": [
        "## **C++ Code**"
      ],
      "metadata": {
        "id": "W7ZW6cAWc3PS"
      }
    },
    {
      "cell_type": "code",
      "source": [
        "%%writefile lab5_queue.cpp\n",
        "#include <iostream>\n",
        "#define SIZE 5\n",
        "using namespace std;\n",
        "\n",
        "class Queue {\n",
        "    int arr[SIZE], front, rear;\n",
        "public:\n",
        "    Queue() {\n",
        "        front = rear = -1;\n",
        "    }\n",
        "\n",
        "    void enqueue(int val) {\n",
        "        if ((rear + 1) % SIZE == front) {\n",
        "            cout << \"Queue Overflow\\n\";\n",
        "            return;\n",
        "        }\n",
        "        if (front == -1) front = 0;\n",
        "        rear = (rear + 1) % SIZE;\n",
        "        arr[rear] = val;\n",
        "    }\n",
        "\n",
        "    void dequeue() {\n",
        "        if (front == -1) {\n",
        "            cout << \"Queue Underflow\\n\";\n",
        "            return;\n",
        "        }\n",
        "        cout << \"Dequeued: \" << arr[front] << endl;\n",
        "        if (front == rear)\n",
        "            front = rear = -1;\n",
        "        else\n",
        "            front = (front + 1) % SIZE;\n",
        "    }\n",
        "\n",
        "    void traverse() {\n",
        "        if (front == -1) {\n",
        "            cout << \"Queue is empty\\n\";\n",
        "            return;\n",
        "        }\n",
        "        cout << \"Queue: \";\n",
        "        int i = front;\n",
        "        while (true) {\n",
        "            cout << arr[i] << \" \";\n",
        "            if (i == rear) break;\n",
        "            i = (i + 1) % SIZE;\n",
        "        }\n",
        "        cout << endl;\n",
        "    }\n",
        "\n",
        "    void search(int key) {\n",
        "        if (front == -1) {\n",
        "            cout << \"Queue is empty\\n\";\n",
        "            return;\n",
        "        }\n",
        "        int i = front;\n",
        "        while (true) {\n",
        "            if (arr[i] == key) {\n",
        "                cout << \"Element \" << key << \" found at index \" << i << endl;\n",
        "                return;\n",
        "            }\n",
        "            if (i == rear) break;\n",
        "            i = (i + 1) % SIZE;\n",
        "        }\n",
        "        cout << \"Element not found\\n\";\n",
        "    }\n",
        "};\n",
        "\n",
        "int main() {\n",
        "    Queue q;\n",
        "    q.enqueue(10);\n",
        "    q.enqueue(20);\n",
        "    q.enqueue(30);\n",
        "    q.traverse();\n",
        "    q.dequeue();\n",
        "    q.traverse();\n",
        "    q.search(20);\n",
        "    q.search(99);\n",
        "    return 0;\n",
        "}\n"
      ],
      "metadata": {
        "colab": {
          "base_uri": "https://localhost:8080/"
        },
        "id": "ar19MESQcHDe",
        "outputId": "27add719-cb27-4850-9f55-40ad85164db6"
      },
      "execution_count": null,
      "outputs": [
        {
          "output_type": "stream",
          "name": "stdout",
          "text": [
            "Writing lab5_queue.cpp\n"
          ]
        }
      ]
    },
    {
      "cell_type": "code",
      "source": [
        "!g++ lab5_queue.cpp -o lab5\n"
      ],
      "metadata": {
        "id": "sXIkjrlXiR4v"
      },
      "execution_count": null,
      "outputs": []
    },
    {
      "cell_type": "code",
      "source": [
        "!./lab5\n"
      ],
      "metadata": {
        "colab": {
          "base_uri": "https://localhost:8080/"
        },
        "id": "N-ux9jkqiTMZ",
        "outputId": "e5a5abd7-cb6a-4278-de01-77558dc2bdb7"
      },
      "execution_count": null,
      "outputs": [
        {
          "output_type": "stream",
          "name": "stdout",
          "text": [
            "Queue: 10 20 30 \n",
            "Dequeued: 10\n",
            "Queue: 20 30 \n",
            "Element 20 found at index 1\n",
            "Element not found\n"
          ]
        }
      ]
    },
    {
      "cell_type": "markdown",
      "source": [
        "## **Python Code**"
      ],
      "metadata": {
        "id": "pWf9QUI2r1-u"
      }
    },
    {
      "cell_type": "code",
      "source": [
        "class Queue:\n",
        "    def __init__(self, size):\n",
        "        self.size = size\n",
        "        self.queue = [None]*size\n",
        "        self.front = -1\n",
        "        self.rear = -1\n",
        "\n",
        "    def is_full(self):\n",
        "        return (self.rear + 1) % self.size == self.front\n",
        "\n",
        "    def is_empty(self):\n",
        "        return self.front == -1\n",
        "\n",
        "    def enqueue(self, val):\n",
        "        if self.is_full():\n",
        "            print(\"Queue Overflow\")\n",
        "            return\n",
        "        if self.front == -1:\n",
        "            self.front = 0\n",
        "        self.rear = (self.rear + 1) % self.size\n",
        "        self.queue[self.rear] = val\n",
        "        print(f\"Enqueued: {val}\")\n",
        "\n",
        "    def dequeue(self):\n",
        "        if self.is_empty():\n",
        "            print(\"Queue Underflow\")\n",
        "            return\n",
        "        val = self.queue[self.front]\n",
        "        print(f\"Dequeued: {val}\")\n",
        "        if self.front == self.rear:\n",
        "            self.front = self.rear = -1\n",
        "        else:\n",
        "            self.front = (self.front + 1) % self.size\n",
        "\n",
        "    def traverse(self):\n",
        "        if self.is_empty():\n",
        "            print(\"Queue is empty\")\n",
        "            return\n",
        "        print(\"Queue:\", end=\" \")\n",
        "        i = self.front\n",
        "        while True:\n",
        "            print(self.queue[i], end=\" \")\n",
        "            if i == self.rear:\n",
        "                break\n",
        "            i = (i + 1) % self.size\n",
        "        print()\n",
        "\n",
        "    def search(self, key):\n",
        "        if self.is_empty():\n",
        "            print(\"Queue is empty\")\n",
        "            return\n",
        "        i = self.front\n",
        "        while True:\n",
        "            if self.queue[i] == key:\n",
        "                print(f\"Element {key} found at position {i}\")\n",
        "                return\n",
        "            if i == self.rear:\n",
        "                break\n",
        "            i = (i + 1) % self.size\n",
        "        print(f\"Element {key} not found\")\n",
        "\n",
        "# Driver code (just like main function)\n",
        "if __name__ == \"__main__\":\n",
        "    q = Queue(5)\n",
        "    q.enqueue(10)\n",
        "    q.enqueue(20)\n",
        "    q.enqueue(30)\n",
        "    q.traverse()\n",
        "    q.dequeue()\n",
        "    q.traverse()\n",
        "    q.search(20)\n",
        "    q.search(50)\n"
      ],
      "metadata": {
        "id": "vpMgxUp7r5-8",
        "outputId": "92921a72-55ee-4979-d467-17b6577c2d8e",
        "colab": {
          "base_uri": "https://localhost:8080/"
        }
      },
      "execution_count": null,
      "outputs": [
        {
          "output_type": "stream",
          "name": "stdout",
          "text": [
            "Enqueued: 10\n",
            "Enqueued: 20\n",
            "Enqueued: 30\n",
            "Queue: 10 20 30 \n",
            "Dequeued: 10\n",
            "Queue: 20 30 \n",
            "Element 20 found at position 1\n",
            "Element 50 not found\n"
          ]
        }
      ]
    },
    {
      "cell_type": "markdown",
      "source": [
        "## **C code**"
      ],
      "metadata": {
        "id": "rYBse_0wcler"
      }
    },
    {
      "cell_type": "code",
      "source": [
        "%%writefile lab5_queue.c\n",
        "#include <stdio.h>\n",
        "#define SIZE 5\n",
        "\n",
        "int queue[SIZE];\n",
        "int front = -1, rear = -1;\n",
        "\n",
        "void enqueue(int val) {\n",
        "    if ((rear + 1) % SIZE == front) {\n",
        "        printf(\"Queue Overflow\\n\");\n",
        "        return;\n",
        "    }\n",
        "    if (front == -1) front = 0;\n",
        "    rear = (rear + 1) % SIZE;\n",
        "    queue[rear] = val;\n",
        "    printf(\"Enqueued: %d\\n\", val);\n",
        "}\n",
        "\n",
        "void dequeue() {\n",
        "    if (front == -1) {\n",
        "        printf(\"Queue Underflow\\n\");\n",
        "        return;\n",
        "    }\n",
        "    printf(\"Dequeued: %d\\n\", queue[front]);\n",
        "    if (front == rear)\n",
        "        front = rear = -1;\n",
        "    else\n",
        "        front = (front + 1) % SIZE;\n",
        "}\n",
        "\n",
        "void traverse() {\n",
        "    if (front == -1) {\n",
        "        printf(\"Queue is empty\\n\");\n",
        "        return;\n",
        "    }\n",
        "    printf(\"Queue: \");\n",
        "    int i = front;\n",
        "    while (1) {\n",
        "        printf(\"%d \", queue[i]);\n",
        "        if (i == rear) break;\n",
        "        i = (i + 1) % SIZE;\n",
        "    }\n",
        "    printf(\"\\n\");\n",
        "}\n",
        "\n",
        "void search(int key) {\n",
        "    if (front == -1) {\n",
        "        printf(\"Queue is empty\\n\");\n",
        "        return;\n",
        "    }\n",
        "    int i = front;\n",
        "    while (1) {\n",
        "        if (queue[i] == key) {\n",
        "            printf(\"Element %d found at position %d\\n\", key, i);\n",
        "            return;\n",
        "        }\n",
        "        if (i == rear) break;\n",
        "        i = (i + 1) % SIZE;\n",
        "    }\n",
        "    printf(\"Element %d not found\\n\", key);\n",
        "}\n",
        "\n",
        "int main() {\n",
        "    enqueue(10);\n",
        "    enqueue(20);\n",
        "    enqueue(30);\n",
        "    traverse();\n",
        "    dequeue();\n",
        "    traverse();\n",
        "    search(20);\n",
        "    search(50);\n",
        "    return 0;\n",
        "}\n"
      ],
      "metadata": {
        "id": "2SHPVlducsTd",
        "colab": {
          "base_uri": "https://localhost:8080/"
        },
        "outputId": "30434e90-1610-421a-fc7b-681ae0e27319"
      },
      "execution_count": null,
      "outputs": [
        {
          "output_type": "stream",
          "name": "stdout",
          "text": [
            "Writing lab5_queue.c\n"
          ]
        }
      ]
    },
    {
      "cell_type": "code",
      "source": [
        "# Compile the C program\n",
        "!gcc lab5_queue.c -o lab5_queue\n"
      ],
      "metadata": {
        "id": "peml3SpSzZBB"
      },
      "execution_count": null,
      "outputs": []
    },
    {
      "cell_type": "code",
      "source": [
        "!./lab5_queue\n"
      ],
      "metadata": {
        "id": "h76-AJwonDGm",
        "outputId": "7f019c98-c71a-4b08-8885-8d8508dedef0",
        "colab": {
          "base_uri": "https://localhost:8080/"
        }
      },
      "execution_count": null,
      "outputs": [
        {
          "output_type": "stream",
          "name": "stdout",
          "text": [
            "Enqueued: 10\n",
            "Enqueued: 20\n",
            "Enqueued: 30\n",
            "Queue: 10 20 30 \n",
            "Dequeued: 10\n",
            "Queue: 20 30 \n",
            "Element 20 found at position 1\n",
            "Element 50 not found\n"
          ]
        }
      ]
    },
    {
      "cell_type": "markdown",
      "source": [
        "---\n",
        "\n",
        "## ✅ Summary:\n",
        "\n",
        "- A **queue** is a FIFO data structure\n",
        "- Implemented using an array with operations:\n",
        "  - `enqueue()` → add to rear\n",
        "  - `dequeue()` → remove from front\n",
        "  - `peek()` → view front\n",
        "  - `traverse()` → display queue\n",
        "- Overflow and underflow handled properly\n",
        "\n",
        "---\n",
        "\n",
        "## 📘 Viva Questions:\n",
        "\n",
        "1. What is the difference between stack and queue?\n",
        "2. What is the time complexity of enqueue/dequeue?\n",
        "3. How does queue overflow and underflow occur?\n",
        "4. How can circular queues solve space problems in array implementation?\n",
        "\n",
        "⏭️ Next: LAB- 6:-Singly Linked List\n"
      ],
      "metadata": {
        "id": "3ZHb1DWTz9mV"
      }
    }
  ]
}