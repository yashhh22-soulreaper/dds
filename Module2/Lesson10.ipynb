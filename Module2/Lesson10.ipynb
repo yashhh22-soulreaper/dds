{
  "nbformat": 4,
  "nbformat_minor": 0,
  "metadata": {
    "colab": {
      "provenance": [],
      "include_colab_link": true
    },
    "kernelspec": {
      "name": "python3",
      "display_name": "Python 3"
    },
    "language_info": {
      "name": "python"
    }
  },
  "cells": [
    {
      "cell_type": "markdown",
      "metadata": {
        "id": "view-in-github",
        "colab_type": "text"
      },
      "source": [
        "<a href=\"https://colab.research.google.com/github/yashhh22-soulreaper/dds/blob/main/Module2/Lesson10.ipynb\" target=\"_parent\"><img src=\"https://colab.research.google.com/assets/colab-badge.svg\" alt=\"Open In Colab\"/></a>"
      ]
    },
    {
      "cell_type": "markdown",
      "source": [
        "# 📘 Lesson 10: Evaluation of Postfix Expression\n",
        "\n",
        "## 🎯 Objectives:\n",
        "- Evaluate postfix (Reverse Polish) expressions using stack\n",
        "- Understand operand/operator handling during evaluation\n",
        "- Implement in both Python and C\n",
        "- Learn how to apply expression parsing logic in real scenarios\n",
        "\n",
        "---\n",
        "\n",
        "## 🧠 What is a Postfix Expression?\n",
        "\n",
        "Postfix (e.g., `53+62/*`) places the operator **after** its operands.\n",
        "\n",
        "### Example:\n",
        "Postfix: `53+62/*`  \n",
        "= (5 + 3) * (6 / 2)  \n",
        "= 8 * 3 = **24**\n",
        "\n",
        "---\n",
        "\n",
        "## 💡 Why Postfix?\n",
        "\n",
        "- No need for parentheses or precedence rules\n",
        "- Easily evaluated using a **stack**\n",
        "- Common in compilers, calculators, interpreters\n"
      ],
      "metadata": {
        "id": "7ODMQjHSdcz8"
      }
    },
    {
      "cell_type": "code",
      "source": [
        "def evaluate_postfix(expression):\n",
        "    stack = []\n",
        "\n",
        "    for char in expression:\n",
        "        if char.isdigit():\n",
        "            stack.append(int(char))\n",
        "        else:\n",
        "            b = stack.pop()\n",
        "            a = stack.pop()\n",
        "            if char == '+':\n",
        "                stack.append(a + b)\n",
        "            elif char == '-':\n",
        "                stack.append(a - b)\n",
        "            elif char == '*':\n",
        "                stack.append(a * b)\n",
        "            elif char == '/':\n",
        "                stack.append(a // b)  # Integer division\n",
        "\n",
        "    return stack.pop()\n",
        "\n",
        "# 🔍 Test\n",
        "expr = \"53+62/*\"  # Should evaluate to 24\n",
        "print(\"Postfix Expression:\", expr)\n",
        "print(\"Evaluated Result:\", evaluate_postfix(expr))\n"
      ],
      "metadata": {
        "id": "AP3wKpJAmuxC"
      },
      "execution_count": null,
      "outputs": []
    },
    {
      "cell_type": "markdown",
      "source": [
        "---\n",
        "\n",
        "## 🧠 How It Works:\n",
        "\n",
        "1. **Operands** (digits) → push onto the stack\n",
        "2. **Operator** → pop two elements, apply operation, push result back\n",
        "3. Final result is the only value left on the stack\n",
        "\n",
        "### Step-by-step for \"53+62/*\":\n",
        "```\n",
        "Stack steps:\n",
        "1. Push 5 → [5]\n",
        "2. Push 3 → [5, 3]\n",
        "3. '+' → 5+3=8 → [8]\n",
        "4. Push 6 → [8, 6]\n",
        "5. Push 2 → [8, 6, 2]\n",
        "6. '/' → 6/2=3 → [8, 3]\n",
        "7. '*' → 8*3=24 → [24]\n",
        "```"
      ],
      "metadata": {
        "id": "crjkoCFm5Mli"
      }
    },
    {
      "cell_type": "code",
      "source": [
        "c_code = \"\"\"\n",
        "#include <stdio.h>\n",
        "#include <ctype.h>\n",
        "#define SIZE 100\n",
        "\n",
        "int stack[SIZE];\n",
        "int top = -1;\n",
        "\n",
        "void push(int val) {\n",
        "    stack[++top] = val;\n",
        "}\n",
        "\n",
        "int pop() {\n",
        "    return stack[top--];\n",
        "}\n",
        "\n",
        "int evaluate_postfix(char *exp) {\n",
        "    int a, b;\n",
        "    for (int i = 0; exp[i] != '\\\\0'; i++) {\n",
        "        char ch = exp[i];\n",
        "\n",
        "        if (isdigit(ch)) {\n",
        "            push(ch - '0');  // Convert char to int\n",
        "        } else {\n",
        "            b = pop();\n",
        "            a = pop();\n",
        "            switch (ch) {\n",
        "                case '+': push(a + b); break;\n",
        "                case '-': push(a - b); break;\n",
        "                case '*': push(a * b); break;\n",
        "                case '/': push(a / b); break;\n",
        "            }\n",
        "        }\n",
        "    }\n",
        "    return pop();\n",
        "}\n",
        "\n",
        "int main() {\n",
        "    char expr[] = \"53+62/*\";\n",
        "    printf(\"Postfix Expression: %s\\\\n\", expr);\n",
        "    printf(\"Evaluated Result: %d\\\\n\", evaluate_postfix(expr));\n",
        "    return 0;\n",
        "}\n",
        "\"\"\"\n",
        "\n",
        "with open(\"lesson10_postfix_eval.c\", \"w\") as f:\n",
        "    f.write(c_code)\n"
      ],
      "metadata": {
        "id": "X8C71exe5SLo"
      },
      "execution_count": null,
      "outputs": []
    },
    {
      "cell_type": "code",
      "source": [
        "!gcc lesson10_postfix_eval.c -o lesson10\n"
      ],
      "metadata": {
        "id": "_xZeWmmDm3oG"
      },
      "execution_count": null,
      "outputs": []
    },
    {
      "cell_type": "code",
      "source": [
        "!./lesson10\n"
      ],
      "metadata": {
        "id": "voZjshYh5Wri"
      },
      "execution_count": null,
      "outputs": []
    },
    {
      "cell_type": "markdown",
      "source": [
        "---\n",
        "\n",
        "## ✅ Summary\n",
        "\n",
        "- Postfix expressions are evaluated **left to right**\n",
        "- A **stack** stores operands until an operator is applied\n",
        "- No need for precedence or parentheses\n",
        "- Works in Python with lists and C with arrays\n",
        "\n",
        "---\n",
        "\n",
        "## 📘 Viva Questions\n",
        "\n",
        "1. Why is postfix easier to evaluate than infix?\n",
        "2. How does the stack help in postfix evaluation?\n",
        "3. What happens if an operator is encountered?\n",
        "4. What if the postfix expression is invalid?\n",
        "\n",
        "⏭️ Next: **Lesson 11 – Recursion: Factorial, GCD, Fibonacci, Tower of Hanoi**\n"
      ],
      "metadata": {
        "id": "fHIDQ3mN5YGY"
      }
    }
  ]
}