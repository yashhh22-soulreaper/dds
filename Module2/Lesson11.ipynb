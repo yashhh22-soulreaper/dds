{
  "nbformat": 4,
  "nbformat_minor": 0,
  "metadata": {
    "colab": {
      "provenance": [],
      "include_colab_link": true
    },
    "kernelspec": {
      "name": "python3",
      "display_name": "Python 3"
    },
    "language_info": {
      "name": "python"
    }
  },
  "cells": [
    {
      "cell_type": "markdown",
      "metadata": {
        "id": "view-in-github",
        "colab_type": "text"
      },
      "source": [
        "<a href=\"https://colab.research.google.com/github/yashhh22-soulreaper/dds/blob/main/Module2/Lesson11.ipynb\" target=\"_parent\"><img src=\"https://colab.research.google.com/assets/colab-badge.svg\" alt=\"Open In Colab\"/></a>"
      ]
    },
    {
      "cell_type": "markdown",
      "source": [
        "# Lesson 11: Recursion: Factorial, GCD, FIbonnaci"
      ],
      "metadata": {
        "id": "GAsElQGciUvd"
      }
    },
    {
      "cell_type": "markdown",
      "source": [
        "# **Recursion**\n",
        "\n",
        "Recursion is a programming concept where a function calls itself in order to solve a problem. It's used to break down complex problems into simpler sub-problems of the same type.\n",
        "\n",
        "#### Key Concepts:\n",
        "\n",
        "    Base case: The condition that stops the recursion.\n",
        "\n",
        "    Recursive case: The part of the function where it calls itself to work towards the base case.\n",
        "\n",
        "\n",
        "\n",
        "#### When to Use Recursion:\n",
        "\n",
        "    Problems that can be divided into similar sub-problems\n",
        "    (e.g., tree traversal, factorial, Fibonacci numbers).\n",
        "\n",
        "    Situations where iteration is complex or unnatural.\n"
      ],
      "metadata": {
        "id": "cHQA0b0KSv8W"
      }
    },
    {
      "cell_type": "markdown",
      "source": [
        "# Factorial\n",
        "\n",
        "Factorial is a mathematical function denoted by an exclamation mark ! and is used to multiply a number by every positive whole number less than itself.\n",
        "Definition:\n",
        "\n",
        "For a non-negative integer n, the factorial of n is:\n",
        "```\n",
        "n!=n×(n−1)×(n−2)×⋯×2×1\n",
        "```\n",
        "#### Special Case:\n",
        "```\n",
        "0!=1\n",
        "```\n",
        "\n",
        "\n",
        "\n",
        "```\n",
        "factorial(5)\n",
        "→ 5 * factorial(4)\n",
        "→ 5 * 4 * factorial(3)\n",
        "→ 5 * 4 * 3 * factorial(2)\n",
        "→ 5 * 4 * 3 * 2 * factorial(1)\n",
        "→ 5 * 4 * 3 * 2 * 1 = 120\n",
        "```\n",
        "\n"
      ],
      "metadata": {
        "id": "2b_Fm1ciY_aX"
      }
    },
    {
      "cell_type": "markdown",
      "source": [
        "\n",
        "### Factorials are used in:\n",
        "\n",
        "    Combinatorics (e.g., counting permutations: n!n! ways to arrange nn objects)\n",
        "\n",
        "    Probability\n",
        "\n",
        "    Algebra\n",
        "\n",
        "    Calculus (especially in Taylor series)\n",
        "\n",
        "    Computer Science (in recursion and algorithm complexity)"
      ],
      "metadata": {
        "id": "b9oweG_Ory0a"
      }
    },
    {
      "cell_type": "markdown",
      "source": [
        "## Python code"
      ],
      "metadata": {
        "id": "JloZOag8Ri8z"
      }
    },
    {
      "cell_type": "markdown",
      "source": [
        "### ✅ Using a loop:"
      ],
      "metadata": {
        "id": "mJznmk1WRsA8"
      }
    },
    {
      "cell_type": "code",
      "source": [
        "def factorial(n):\n",
        "    if n < 0:\n",
        "        return \"Factorial is not defined for negative numbers.\"\n",
        "    result = 1\n",
        "    for i in range(1, n + 1):\n",
        "        result *= i\n",
        "    return result\n",
        "\n",
        "# Example usage\n",
        "print(factorial(5))  # Output: 120\n"
      ],
      "metadata": {
        "id": "eFqh-zosRiFs",
        "outputId": "60f0d9e0-91c3-4bc5-c1fd-abf93b5772e8",
        "colab": {
          "base_uri": "https://localhost:8080/"
        }
      },
      "execution_count": null,
      "outputs": [
        {
          "output_type": "stream",
          "name": "stdout",
          "text": [
            "120\n"
          ]
        }
      ]
    },
    {
      "cell_type": "markdown",
      "source": [
        "### ✅ Using recursion:"
      ],
      "metadata": {
        "id": "rXs-V-uBRxV6"
      }
    },
    {
      "cell_type": "code",
      "source": [
        "def factorial(n):\n",
        "    if n < 0:\n",
        "        return \"Factorial is not defined for negative numbers.\"\n",
        "    if n == 0 or n == 1:\n",
        "        return 1\n",
        "    return n * factorial(n - 1)\n",
        "\n",
        "# Example usage\n",
        "print(factorial(5))  # Output: 120"
      ],
      "metadata": {
        "id": "UBdBUI8QR126"
      },
      "execution_count": null,
      "outputs": []
    },
    {
      "cell_type": "markdown",
      "source": [
        "## C++ code"
      ],
      "metadata": {
        "id": "wb2YGnNWXk5C"
      }
    },
    {
      "cell_type": "code",
      "source": [
        "%%writefile factorial.cpp\n",
        "\n",
        "#include <iostream>\n",
        "using namespace std;\n",
        "\n",
        "int factorial(int n) {\n",
        "    if (n == 1)\n",
        "        return 1; // base case\n",
        "    else\n",
        "        return n * factorial(n - 1); // recursive call\n",
        "}\n",
        "\n",
        "int main() {\n",
        "    int num = 5;\n",
        "    cout << \"Factorial of \" << num << \" is \" << factorial(num) << endl;\n",
        "    return 0;\n",
        "}"
      ],
      "metadata": {
        "id": "9_rFEtbDXOaj",
        "outputId": "a5c64090-ea0e-4d4a-f5d1-382f2e43a5d1",
        "colab": {
          "base_uri": "https://localhost:8080/"
        }
      },
      "execution_count": null,
      "outputs": [
        {
          "output_type": "stream",
          "name": "stdout",
          "text": [
            "Writing factorial.cpp\n"
          ]
        }
      ]
    },
    {
      "cell_type": "code",
      "source": [
        "!g++ factorial.cpp -o factorial"
      ],
      "metadata": {
        "id": "e0TRC7wgXvD1"
      },
      "execution_count": null,
      "outputs": []
    },
    {
      "cell_type": "code",
      "source": [
        "!./factorial"
      ],
      "metadata": {
        "id": "6IW3ea3DXzQx",
        "outputId": "6a6ad571-d85b-4d14-ade6-8af6a248be16",
        "colab": {
          "base_uri": "https://localhost:8080/"
        }
      },
      "execution_count": null,
      "outputs": [
        {
          "output_type": "stream",
          "name": "stdout",
          "text": [
            "Factorial of 5 is 120\n"
          ]
        }
      ]
    },
    {
      "cell_type": "markdown",
      "source": [
        "## C code"
      ],
      "metadata": {
        "id": "ZbaNBc4JGioM"
      }
    },
    {
      "cell_type": "code",
      "source": [
        "%%writefile factorial.c\n",
        "#include <stdio.h>\n",
        "\n",
        "int factorial(int n) {\n",
        "    if (n == 1)\n",
        "        return 1; // base case\n",
        "    else\n",
        "        return n * factorial(n - 1); // recursive call\n",
        "}\n",
        "\n",
        "int main() {\n",
        "    int num = 5;\n",
        "    printf(\"Factorial of %d is %d\\n\", num, factorial(num));\n",
        "    return 0;\n",
        "}\n"
      ],
      "metadata": {
        "id": "mU_iMXyDpcRt",
        "outputId": "6f880ccb-7cab-45d5-b5bd-d7aef3c61968",
        "colab": {
          "base_uri": "https://localhost:8080/"
        }
      },
      "execution_count": null,
      "outputs": [
        {
          "output_type": "stream",
          "name": "stdout",
          "text": [
            "Overwriting factorial.c\n"
          ]
        }
      ]
    },
    {
      "cell_type": "code",
      "source": [
        "# Compile the C code using GCC\n",
        "!gcc factorial.c\n",
        "\n",
        "# Run the compiled program\n",
        "!./a.out\n"
      ],
      "metadata": {
        "id": "Rfj1xZrsVRDE",
        "outputId": "f49111c5-7d33-415f-fb8d-adf502db04a3",
        "colab": {
          "base_uri": "https://localhost:8080/"
        }
      },
      "execution_count": null,
      "outputs": [
        {
          "output_type": "stream",
          "name": "stdout",
          "text": [
            "Factorial of 5 is 120\n"
          ]
        }
      ]
    },
    {
      "cell_type": "markdown",
      "source": [
        "##JAVA code"
      ],
      "metadata": {
        "id": "CMsPDWdJV8gK"
      }
    },
    {
      "cell_type": "code",
      "source": [
        "!apt-get install openjdk-17-jdk -y"
      ],
      "metadata": {
        "collapsed": true,
        "id": "wJo6NDsjWDWm",
        "outputId": "a5b46f71-f0bc-416e-eef5-57aa5c01674d",
        "colab": {
          "base_uri": "https://localhost:8080/"
        }
      },
      "execution_count": null,
      "outputs": [
        {
          "output_type": "stream",
          "name": "stdout",
          "text": [
            "Reading package lists... Done\n",
            "Building dependency tree... Done\n",
            "Reading state information... Done\n",
            "The following additional packages will be installed:\n",
            "  fonts-dejavu-core fonts-dejavu-extra libatk-wrapper-java\n",
            "  libatk-wrapper-java-jni libxt-dev libxtst6 libxxf86dga1\n",
            "  openjdk-17-jdk-headless openjdk-17-jre openjdk-17-jre-headless x11-utils\n",
            "Suggested packages:\n",
            "  libxt-doc openjdk-17-demo openjdk-17-source visualvm libnss-mdns\n",
            "  fonts-ipafont-gothic fonts-ipafont-mincho fonts-wqy-microhei\n",
            "  | fonts-wqy-zenhei fonts-indic mesa-utils\n",
            "The following NEW packages will be installed:\n",
            "  fonts-dejavu-core fonts-dejavu-extra libatk-wrapper-java\n",
            "  libatk-wrapper-java-jni libxt-dev libxtst6 libxxf86dga1 openjdk-17-jdk\n",
            "  openjdk-17-jdk-headless openjdk-17-jre openjdk-17-jre-headless x11-utils\n",
            "0 upgraded, 12 newly installed, 0 to remove and 35 not upgraded.\n",
            "Need to get 126 MB of archives.\n",
            "After this operation, 288 MB of additional disk space will be used.\n",
            "Get:1 http://archive.ubuntu.com/ubuntu jammy/main amd64 fonts-dejavu-core all 2.37-2build1 [1,041 kB]\n",
            "Get:2 http://archive.ubuntu.com/ubuntu jammy/main amd64 fonts-dejavu-extra all 2.37-2build1 [2,041 kB]\n",
            "Get:3 http://archive.ubuntu.com/ubuntu jammy/main amd64 libxtst6 amd64 2:1.2.3-1build4 [13.4 kB]\n",
            "Get:4 http://archive.ubuntu.com/ubuntu jammy/main amd64 libxxf86dga1 amd64 2:1.1.5-0ubuntu3 [12.6 kB]\n",
            "Get:5 http://archive.ubuntu.com/ubuntu jammy/main amd64 x11-utils amd64 7.7+5build2 [206 kB]\n",
            "Get:6 http://archive.ubuntu.com/ubuntu jammy/main amd64 libatk-wrapper-java all 0.38.0-5build1 [53.1 kB]\n",
            "Get:7 http://archive.ubuntu.com/ubuntu jammy/main amd64 libatk-wrapper-java-jni amd64 0.38.0-5build1 [49.0 kB]\n",
            "Get:8 http://archive.ubuntu.com/ubuntu jammy/main amd64 libxt-dev amd64 1:1.2.1-1 [396 kB]\n",
            "Get:9 http://archive.ubuntu.com/ubuntu jammy-updates/universe amd64 openjdk-17-jre-headless amd64 17.0.15+6~us1-0ubuntu1~22.04 [48.3 MB]\n",
            "Get:10 http://archive.ubuntu.com/ubuntu jammy-updates/universe amd64 openjdk-17-jre amd64 17.0.15+6~us1-0ubuntu1~22.04 [232 kB]\n",
            "Get:11 http://archive.ubuntu.com/ubuntu jammy-updates/universe amd64 openjdk-17-jdk-headless amd64 17.0.15+6~us1-0ubuntu1~22.04 [71.3 MB]\n",
            "Get:12 http://archive.ubuntu.com/ubuntu jammy-updates/universe amd64 openjdk-17-jdk amd64 17.0.15+6~us1-0ubuntu1~22.04 [2,403 kB]\n",
            "Fetched 126 MB in 6s (20.8 MB/s)\n",
            "Selecting previously unselected package fonts-dejavu-core.\n",
            "(Reading database ... 126308 files and directories currently installed.)\n",
            "Preparing to unpack .../00-fonts-dejavu-core_2.37-2build1_all.deb ...\n",
            "Unpacking fonts-dejavu-core (2.37-2build1) ...\n",
            "Selecting previously unselected package fonts-dejavu-extra.\n",
            "Preparing to unpack .../01-fonts-dejavu-extra_2.37-2build1_all.deb ...\n",
            "Unpacking fonts-dejavu-extra (2.37-2build1) ...\n",
            "Selecting previously unselected package libxtst6:amd64.\n",
            "Preparing to unpack .../02-libxtst6_2%3a1.2.3-1build4_amd64.deb ...\n",
            "Unpacking libxtst6:amd64 (2:1.2.3-1build4) ...\n",
            "Selecting previously unselected package libxxf86dga1:amd64.\n",
            "Preparing to unpack .../03-libxxf86dga1_2%3a1.1.5-0ubuntu3_amd64.deb ...\n",
            "Unpacking libxxf86dga1:amd64 (2:1.1.5-0ubuntu3) ...\n",
            "Selecting previously unselected package x11-utils.\n",
            "Preparing to unpack .../04-x11-utils_7.7+5build2_amd64.deb ...\n",
            "Unpacking x11-utils (7.7+5build2) ...\n",
            "Selecting previously unselected package libatk-wrapper-java.\n",
            "Preparing to unpack .../05-libatk-wrapper-java_0.38.0-5build1_all.deb ...\n",
            "Unpacking libatk-wrapper-java (0.38.0-5build1) ...\n",
            "Selecting previously unselected package libatk-wrapper-java-jni:amd64.\n",
            "Preparing to unpack .../06-libatk-wrapper-java-jni_0.38.0-5build1_amd64.deb ...\n",
            "Unpacking libatk-wrapper-java-jni:amd64 (0.38.0-5build1) ...\n",
            "Selecting previously unselected package libxt-dev:amd64.\n",
            "Preparing to unpack .../07-libxt-dev_1%3a1.2.1-1_amd64.deb ...\n",
            "Unpacking libxt-dev:amd64 (1:1.2.1-1) ...\n",
            "Selecting previously unselected package openjdk-17-jre-headless:amd64.\n",
            "Preparing to unpack .../08-openjdk-17-jre-headless_17.0.15+6~us1-0ubuntu1~22.04_amd64.deb ...\n",
            "Unpacking openjdk-17-jre-headless:amd64 (17.0.15+6~us1-0ubuntu1~22.04) ...\n",
            "Selecting previously unselected package openjdk-17-jre:amd64.\n",
            "Preparing to unpack .../09-openjdk-17-jre_17.0.15+6~us1-0ubuntu1~22.04_amd64.deb ...\n",
            "Unpacking openjdk-17-jre:amd64 (17.0.15+6~us1-0ubuntu1~22.04) ...\n",
            "Selecting previously unselected package openjdk-17-jdk-headless:amd64.\n",
            "Preparing to unpack .../10-openjdk-17-jdk-headless_17.0.15+6~us1-0ubuntu1~22.04_amd64.deb ...\n",
            "Unpacking openjdk-17-jdk-headless:amd64 (17.0.15+6~us1-0ubuntu1~22.04) ...\n",
            "Selecting previously unselected package openjdk-17-jdk:amd64.\n",
            "Preparing to unpack .../11-openjdk-17-jdk_17.0.15+6~us1-0ubuntu1~22.04_amd64.deb ...\n",
            "Unpacking openjdk-17-jdk:amd64 (17.0.15+6~us1-0ubuntu1~22.04) ...\n",
            "Setting up libxtst6:amd64 (2:1.2.3-1build4) ...\n",
            "Setting up libxxf86dga1:amd64 (2:1.1.5-0ubuntu3) ...\n",
            "Setting up libxt-dev:amd64 (1:1.2.1-1) ...\n",
            "Setting up fonts-dejavu-core (2.37-2build1) ...\n",
            "Setting up openjdk-17-jre-headless:amd64 (17.0.15+6~us1-0ubuntu1~22.04) ...\n",
            "update-alternatives: using /usr/lib/jvm/java-17-openjdk-amd64/bin/java to provide /usr/bin/java (java) in auto mode\n",
            "update-alternatives: using /usr/lib/jvm/java-17-openjdk-amd64/bin/jpackage to provide /usr/bin/jpackage (jpackage) in auto mode\n",
            "update-alternatives: using /usr/lib/jvm/java-17-openjdk-amd64/bin/keytool to provide /usr/bin/keytool (keytool) in auto mode\n",
            "update-alternatives: using /usr/lib/jvm/java-17-openjdk-amd64/bin/rmiregistry to provide /usr/bin/rmiregistry (rmiregistry) in auto mode\n",
            "update-alternatives: using /usr/lib/jvm/java-17-openjdk-amd64/lib/jexec to provide /usr/bin/jexec (jexec) in auto mode\n",
            "Setting up fonts-dejavu-extra (2.37-2build1) ...\n",
            "Setting up x11-utils (7.7+5build2) ...\n",
            "Setting up libatk-wrapper-java (0.38.0-5build1) ...\n",
            "Setting up openjdk-17-jre:amd64 (17.0.15+6~us1-0ubuntu1~22.04) ...\n",
            "Setting up libatk-wrapper-java-jni:amd64 (0.38.0-5build1) ...\n",
            "Setting up openjdk-17-jdk-headless:amd64 (17.0.15+6~us1-0ubuntu1~22.04) ...\n",
            "update-alternatives: using /usr/lib/jvm/java-17-openjdk-amd64/bin/jar to provide /usr/bin/jar (jar) in auto mode\n",
            "update-alternatives: using /usr/lib/jvm/java-17-openjdk-amd64/bin/jarsigner to provide /usr/bin/jarsigner (jarsigner) in auto mode\n",
            "update-alternatives: using /usr/lib/jvm/java-17-openjdk-amd64/bin/javac to provide /usr/bin/javac (javac) in auto mode\n",
            "update-alternatives: using /usr/lib/jvm/java-17-openjdk-amd64/bin/javadoc to provide /usr/bin/javadoc (javadoc) in auto mode\n",
            "update-alternatives: using /usr/lib/jvm/java-17-openjdk-amd64/bin/javap to provide /usr/bin/javap (javap) in auto mode\n",
            "update-alternatives: using /usr/lib/jvm/java-17-openjdk-amd64/bin/jcmd to provide /usr/bin/jcmd (jcmd) in auto mode\n",
            "update-alternatives: using /usr/lib/jvm/java-17-openjdk-amd64/bin/jdb to provide /usr/bin/jdb (jdb) in auto mode\n",
            "update-alternatives: using /usr/lib/jvm/java-17-openjdk-amd64/bin/jdeprscan to provide /usr/bin/jdeprscan (jdeprscan) in auto mode\n",
            "update-alternatives: using /usr/lib/jvm/java-17-openjdk-amd64/bin/jdeps to provide /usr/bin/jdeps (jdeps) in auto mode\n",
            "update-alternatives: using /usr/lib/jvm/java-17-openjdk-amd64/bin/jfr to provide /usr/bin/jfr (jfr) in auto mode\n",
            "update-alternatives: using /usr/lib/jvm/java-17-openjdk-amd64/bin/jimage to provide /usr/bin/jimage (jimage) in auto mode\n",
            "update-alternatives: using /usr/lib/jvm/java-17-openjdk-amd64/bin/jinfo to provide /usr/bin/jinfo (jinfo) in auto mode\n",
            "update-alternatives: using /usr/lib/jvm/java-17-openjdk-amd64/bin/jlink to provide /usr/bin/jlink (jlink) in auto mode\n",
            "update-alternatives: using /usr/lib/jvm/java-17-openjdk-amd64/bin/jmap to provide /usr/bin/jmap (jmap) in auto mode\n",
            "update-alternatives: using /usr/lib/jvm/java-17-openjdk-amd64/bin/jmod to provide /usr/bin/jmod (jmod) in auto mode\n",
            "update-alternatives: using /usr/lib/jvm/java-17-openjdk-amd64/bin/jps to provide /usr/bin/jps (jps) in auto mode\n",
            "update-alternatives: using /usr/lib/jvm/java-17-openjdk-amd64/bin/jrunscript to provide /usr/bin/jrunscript (jrunscript) in auto mode\n",
            "update-alternatives: using /usr/lib/jvm/java-17-openjdk-amd64/bin/jshell to provide /usr/bin/jshell (jshell) in auto mode\n",
            "update-alternatives: using /usr/lib/jvm/java-17-openjdk-amd64/bin/jstack to provide /usr/bin/jstack (jstack) in auto mode\n",
            "update-alternatives: using /usr/lib/jvm/java-17-openjdk-amd64/bin/jstat to provide /usr/bin/jstat (jstat) in auto mode\n",
            "update-alternatives: using /usr/lib/jvm/java-17-openjdk-amd64/bin/jstatd to provide /usr/bin/jstatd (jstatd) in auto mode\n",
            "update-alternatives: using /usr/lib/jvm/java-17-openjdk-amd64/bin/serialver to provide /usr/bin/serialver (serialver) in auto mode\n",
            "update-alternatives: using /usr/lib/jvm/java-17-openjdk-amd64/bin/jhsdb to provide /usr/bin/jhsdb (jhsdb) in auto mode\n",
            "Setting up openjdk-17-jdk:amd64 (17.0.15+6~us1-0ubuntu1~22.04) ...\n",
            "update-alternatives: using /usr/lib/jvm/java-17-openjdk-amd64/bin/jconsole to provide /usr/bin/jconsole (jconsole) in auto mode\n",
            "Processing triggers for fontconfig (2.13.1-4.2ubuntu5) ...\n",
            "Processing triggers for hicolor-icon-theme (0.17-2) ...\n",
            "Processing triggers for libc-bin (2.35-0ubuntu3.8) ...\n",
            "/sbin/ldconfig.real: /usr/local/lib/libtbb.so.12 is not a symbolic link\n",
            "\n",
            "/sbin/ldconfig.real: /usr/local/lib/libhwloc.so.15 is not a symbolic link\n",
            "\n",
            "/sbin/ldconfig.real: /usr/local/lib/libtcm.so.1 is not a symbolic link\n",
            "\n",
            "/sbin/ldconfig.real: /usr/local/lib/libtbbbind_2_5.so.3 is not a symbolic link\n",
            "\n",
            "/sbin/ldconfig.real: /usr/local/lib/libur_loader.so.0 is not a symbolic link\n",
            "\n",
            "/sbin/ldconfig.real: /usr/local/lib/libtbbbind.so.3 is not a symbolic link\n",
            "\n",
            "/sbin/ldconfig.real: /usr/local/lib/libur_adapter_level_zero.so.0 is not a symbolic link\n",
            "\n",
            "/sbin/ldconfig.real: /usr/local/lib/libur_adapter_level_zero_v2.so.0 is not a symbolic link\n",
            "\n",
            "/sbin/ldconfig.real: /usr/local/lib/libtbbmalloc.so.2 is not a symbolic link\n",
            "\n",
            "/sbin/ldconfig.real: /usr/local/lib/libur_adapter_opencl.so.0 is not a symbolic link\n",
            "\n",
            "/sbin/ldconfig.real: /usr/local/lib/libtbbmalloc_proxy.so.2 is not a symbolic link\n",
            "\n",
            "/sbin/ldconfig.real: /usr/local/lib/libtcm_debug.so.1 is not a symbolic link\n",
            "\n",
            "/sbin/ldconfig.real: /usr/local/lib/libumf.so.0 is not a symbolic link\n",
            "\n",
            "/sbin/ldconfig.real: /usr/local/lib/libtbbbind_2_0.so.3 is not a symbolic link\n",
            "\n",
            "Processing triggers for man-db (2.10.2-1) ...\n",
            "Processing triggers for mailcap (3.70+nmu1ubuntu1) ...\n"
          ]
        }
      ]
    },
    {
      "cell_type": "code",
      "source": [
        "%%writefile Factorial.java\n",
        "public class Factorial {\n",
        "    public static int factorial(int n) {\n",
        "        if (n == 1) return 1;\n",
        "        return n * factorial(n - 1);\n",
        "    }\n",
        "\n",
        "    public static void main(String[] args) {\n",
        "        int num = 5;\n",
        "        System.out.println(\"Factorial of \" + num + \" is \" + factorial(num));\n",
        "    }\n",
        "}"
      ],
      "metadata": {
        "id": "rbdAmzdYWIIi",
        "outputId": "86dcc3fc-facf-4514-f34c-4198da916f97",
        "colab": {
          "base_uri": "https://localhost:8080/"
        }
      },
      "execution_count": null,
      "outputs": [
        {
          "output_type": "stream",
          "name": "stdout",
          "text": [
            "Overwriting Factorial.java\n"
          ]
        }
      ]
    },
    {
      "cell_type": "code",
      "source": [
        "!javac Factorial.java"
      ],
      "metadata": {
        "id": "o-UNs-jqWN8R"
      },
      "execution_count": null,
      "outputs": []
    },
    {
      "cell_type": "code",
      "source": [
        "!java Factorial"
      ],
      "metadata": {
        "id": "KaHLxCKtWRBa",
        "outputId": "448c9c11-c309-4cfa-81ab-7c166d061a41",
        "colab": {
          "base_uri": "https://localhost:8080/"
        }
      },
      "execution_count": null,
      "outputs": [
        {
          "output_type": "stream",
          "name": "stdout",
          "text": [
            "Factorial of 5 is 120\n"
          ]
        }
      ]
    },
    {
      "cell_type": "markdown",
      "source": [
        "# Greatest Common Divisor(GCD)\n",
        "\n",
        "GCD stands for Greatest Common Divisor. It is the largest positive integer that divides two or more integers without leaving a remainder.\n",
        "Example:\n",
        "\n",
        "#### Find the GCD of 12 and 18:\n",
        "\n",
        "    Divisors of 12: 1, 2, 3, 4, 6, 12\n",
        "\n",
        "    Divisors of 18: 1, 2, 3, 6, 9, 18\n",
        "\n",
        "    Common divisors: 1, 2, 3, 6\n",
        "    ✅ GCD = 6\n",
        "  "
      ],
      "metadata": {
        "id": "KMo6oCLlZKk3"
      }
    },
    {
      "cell_type": "markdown",
      "source": [
        "\n",
        "#### Ways to Compute GCD:\n",
        "\n",
        "    By Listing Divisors (as shown above)\n",
        "\n",
        "    Using Prime Factorization\n",
        "\n",
        "    Using the Euclidean Algorithm\n",
        "    Example: GCD(48, 18)\n",
        "\n",
        "    48 ÷ 18 = 2 remainder 12  \n",
        "    18 ÷ 12 = 1 remainder 6  \n",
        "    12 ÷ 6  = 2 remainder 0  \n",
        "    → GCD = 6\n",
        "\n",
        "#### Use Cases:\n",
        "\n",
        "    Simplifying fractions (e.g., 8/12 = (8÷4)/(12÷4) = 2/3)\n",
        "\n",
        "    Finding common periods in cyclic problems\n",
        "\n",
        "    Number theory and cryptography\n",
        "\n"
      ],
      "metadata": {
        "id": "YXSEGoS7r_X4"
      }
    },
    {
      "cell_type": "markdown",
      "source": [
        "## Python code"
      ],
      "metadata": {
        "id": "JAJar6fhg7Va"
      }
    },
    {
      "cell_type": "markdown",
      "source": [
        "### ✅ The Euclidean Algorithm"
      ],
      "metadata": {
        "id": "TxSCi-zPg7Ve"
      }
    },
    {
      "cell_type": "code",
      "source": [
        "def find_gcd(a, b):\n",
        "    while b != 0:\n",
        "        a, b = b, a % b\n",
        "    return a\n",
        "\n",
        "a = 48\n",
        "b = 18\n",
        "\n",
        "print(\"GCD is:\", find_gcd(a, b))\n"
      ],
      "metadata": {
        "outputId": "6677bbc2-6c69-4b72-abe4-11cd86ce0ccf",
        "colab": {
          "base_uri": "https://localhost:8080/"
        },
        "id": "WZWCTmdXg7Vf"
      },
      "execution_count": null,
      "outputs": [
        {
          "output_type": "stream",
          "name": "stdout",
          "text": [
            "GCD is: 6\n"
          ]
        }
      ]
    },
    {
      "cell_type": "markdown",
      "source": [
        "### ✅ Recursive Function for GCD"
      ],
      "metadata": {
        "id": "-OmXGeQ6g7Vg"
      }
    },
    {
      "cell_type": "code",
      "source": [
        "def gcd(a, b):\n",
        "    if b == 0:\n",
        "        return a\n",
        "    else:\n",
        "        return gcd(b, a % b)\n",
        "\n",
        "# Example usage\n",
        "a = 48\n",
        "b = 18\n",
        "print(\"GCD is:\", gcd(a, b))\n"
      ],
      "metadata": {
        "id": "GcTadqDDg7Vh"
      },
      "execution_count": null,
      "outputs": []
    },
    {
      "cell_type": "markdown",
      "source": [
        "## C++ code"
      ],
      "metadata": {
        "id": "bzufOcrGhTN_"
      }
    },
    {
      "cell_type": "code",
      "source": [
        "%%writefile Rgcd.cpp\n",
        "#include <iostream>\n",
        "using namespace std;\n",
        "\n",
        "// Recursive function to find GCD\n",
        "int gcd(int a, int b) {\n",
        "    if (b == 0)\n",
        "        return a;\n",
        "    return gcd(b, a % b);\n",
        "}\n",
        "\n",
        "int main() {\n",
        "    int a = 66, b = 18;\n",
        "    cout << \"GCD of \" << a << \" and \" << b << \" is: \" << gcd(a, b) << endl;\n",
        "    return 0;\n",
        "}\n"
      ],
      "metadata": {
        "id": "aEbYMhXFiKPV",
        "outputId": "74d5643c-5ef5-4d61-f572-13794c647275",
        "colab": {
          "base_uri": "https://localhost:8080/"
        }
      },
      "execution_count": null,
      "outputs": [
        {
          "output_type": "stream",
          "name": "stdout",
          "text": [
            "Overwriting Rgcd.cpp\n"
          ]
        }
      ]
    },
    {
      "cell_type": "code",
      "source": [
        "!g++ Rgcd.cpp"
      ],
      "metadata": {
        "id": "x-DxbA5Jjdcf"
      },
      "execution_count": null,
      "outputs": []
    },
    {
      "cell_type": "code",
      "source": [
        "!./a.out"
      ],
      "metadata": {
        "id": "vBMls_7Ijz4_",
        "outputId": "e42b24e4-a9d7-47c5-f470-edaa4e0f96e9",
        "colab": {
          "base_uri": "https://localhost:8080/"
        }
      },
      "execution_count": null,
      "outputs": [
        {
          "output_type": "stream",
          "name": "stdout",
          "text": [
            "GCD of 66 and 18 is: 6\n"
          ]
        }
      ]
    },
    {
      "cell_type": "markdown",
      "source": [
        "*italicized text*## C code"
      ],
      "metadata": {
        "id": "-OV8Al1bhbII"
      }
    },
    {
      "cell_type": "code",
      "source": [
        "%%writefile gcd.c\n",
        "#include <stdio.h>\n",
        "\n",
        "// Recursive function to find GCD\n",
        "int gcd(int a, int b) {\n",
        "    if (b == 0)\n",
        "        return a;\n",
        "    return gcd(b, a % b);\n",
        "}\n",
        "\n",
        "int main() {\n",
        "    int a, b;\n",
        "    printf(\"Enter two integers: \");\n",
        "    scanf(\"%d %d\", &a, &b);\n",
        "    printf(\"GCD of %d and %d is: %d\\n\", a, b, gcd(a, b));\n",
        "    return 0;\n",
        "}\n"
      ],
      "metadata": {
        "id": "ax9eRITIkFz7",
        "outputId": "78cfa8d4-4a5a-4ab7-c891-d16708938c36",
        "colab": {
          "base_uri": "https://localhost:8080/"
        }
      },
      "execution_count": null,
      "outputs": [
        {
          "output_type": "stream",
          "name": "stdout",
          "text": [
            "Overwriting gcd.c\n"
          ]
        }
      ]
    },
    {
      "cell_type": "code",
      "source": [
        "!gcc gcd.c"
      ],
      "metadata": {
        "id": "hNphTLKckIS-"
      },
      "execution_count": null,
      "outputs": []
    },
    {
      "cell_type": "code",
      "source": [
        "!./a.out5"
      ],
      "metadata": {
        "id": "EnxD1HJ2kO2M",
        "outputId": "23a8660d-0495-4772-fcd7-190aac26e124",
        "colab": {
          "base_uri": "https://localhost:8080/"
        }
      },
      "execution_count": null,
      "outputs": [
        {
          "output_type": "stream",
          "name": "stdout",
          "text": [
            "Enter two integers: 5\n",
            "25\n",
            "GCD of 5 and 25 is: 5\n"
          ]
        }
      ]
    },
    {
      "cell_type": "markdown",
      "source": [
        "## JAVA code"
      ],
      "metadata": {
        "id": "SvwG17Hghf0v"
      }
    },
    {
      "cell_type": "code",
      "source": [
        "%%writefile GCD.java\n",
        "import java.util.Scanner;\n",
        "\n",
        "public class GCD {\n",
        "    // Recursive function to compute GCD\n",
        "    public static int gcd(int a, int b) {\n",
        "        if (b == 0)\n",
        "            return a;\n",
        "        return gcd(b, a % b);\n",
        "    }\n",
        "\n",
        "    public static void main(String[] args) {\n",
        "        Scanner sc = new Scanner(System.in);\n",
        "        System.out.print(\"Enter two integers: \");\n",
        "        int a = sc.nextInt();\n",
        "        int b = sc.nextInt();\n",
        "        System.out.println(\"GCD of \" + a + \" and \" + b + \" is: \" + gcd(a, b));\n",
        "    }\n",
        "}\n"
      ],
      "metadata": {
        "id": "RmcZP-TkkoHR",
        "outputId": "08406039-5fe5-43fb-9326-6d0b6532b2a2",
        "colab": {
          "base_uri": "https://localhost:8080/"
        }
      },
      "execution_count": null,
      "outputs": [
        {
          "output_type": "stream",
          "name": "stdout",
          "text": [
            "Writing GCD.java\n"
          ]
        }
      ]
    },
    {
      "cell_type": "code",
      "source": [
        "!javac GCD.java"
      ],
      "metadata": {
        "id": "f7kdZGKFkpwU"
      },
      "execution_count": null,
      "outputs": []
    },
    {
      "cell_type": "code",
      "source": [
        "!java GCD"
      ],
      "metadata": {
        "id": "p5XJRNspkv6b",
        "outputId": "66076cd7-472b-4f2b-a0e8-fcd23c92fd73",
        "colab": {
          "base_uri": "https://localhost:8080/"
        }
      },
      "execution_count": null,
      "outputs": [
        {
          "output_type": "stream",
          "name": "stdout",
          "text": [
            "Enter two integers: 78\n",
            "46\n",
            "GCD of 78 and 46 is: 2\n"
          ]
        }
      ]
    },
    {
      "cell_type": "markdown",
      "source": [
        "# FIbonnaci\n",
        "\n",
        "#### The Fibonacci sequence is a famous number sequence where each number is the sum of the two preceding ones, starting from 0 and 1. It goes like this:\n",
        "```\n",
        "0, 1, 1, 2, 3, 5, 8, 13, 21, 34, 55, ...\n",
        "```\n",
        "Definition:\n",
        "\n",
        "    F(0) = 0\n",
        "\n",
        "    F(1) = 1\n",
        "\n",
        "    F(n) = F(n-1) + F(n-2) for n ≥ 2"
      ],
      "metadata": {
        "id": "PGsj9vgJsLvM"
      }
    },
    {
      "cell_type": "markdown",
      "source": [
        "#### Example:\n",
        "\n",
        "    F(2) = 1 (because 1 + 0)\n",
        "\n",
        "    F(3) = 2 (1 + 1)\n",
        "\n",
        "    F(4) = 3 (2 + 1)\n",
        "\n",
        "    F(5) = 5 (3 + 2)\n",
        "\n",
        "    and so on.\n",
        "\n",
        "#### Where it's used:\n",
        "\n",
        "    Math and Computer Science: Recursive algorithms, dynamic programming.\n",
        "\n",
        "    Nature: Patterns in flowers, shells, pinecones.\n",
        "\n",
        "    Finance: Fibonacci retracement in technical analysis.\n",
        "\n",
        "    Art and Architecture: Golden ratio approximation."
      ],
      "metadata": {
        "id": "tmKj6GjssovP"
      }
    },
    {
      "cell_type": "markdown",
      "source": [
        "## Python code"
      ],
      "metadata": {
        "id": "upJdVo4hs14T"
      }
    },
    {
      "cell_type": "code",
      "source": [
        "def fibonacci(n):\n",
        "    fib_sequence = []\n",
        "    a, b = 0, 1\n",
        "    for _ in range(n):\n",
        "        fib_sequence.append(a)\n",
        "        a, b = b, a + b\n",
        "    return fib_sequence\n",
        "\n",
        "# Example usage\n",
        "terms = int(input(\"Enter the number of terms: \"))\n",
        "print(f\"Fibonacci sequence up to {terms} terms:\")\n",
        "print(fibonacci(terms))\n"
      ],
      "metadata": {
        "id": "hbjejs0EtCOQ",
        "outputId": "29ceec82-4f4b-49e1-8cc3-02a2cca0cd58",
        "colab": {
          "base_uri": "https://localhost:8080/"
        }
      },
      "execution_count": null,
      "outputs": [
        {
          "output_type": "stream",
          "name": "stdout",
          "text": [
            "Enter the number of terms: 4\n",
            "Fibonacci sequence up to 4 terms:\n",
            "[0, 1, 1, 2]\n"
          ]
        }
      ]
    },
    {
      "cell_type": "markdown",
      "source": [
        "## C++ code"
      ],
      "metadata": {
        "id": "5cfpCJ8ctGfx"
      }
    },
    {
      "cell_type": "code",
      "source": [
        "%%writefile fibonacci.cpp\n",
        "#include <iostream>\n",
        "using namespace std;\n",
        "\n",
        "void fibonacci(int n) {\n",
        "    int a = 0, b = 1, next;\n",
        "\n",
        "    for (int i = 0; i < n; ++i) {\n",
        "        cout << a << \" \";\n",
        "        next = a + b;\n",
        "        a = b;\n",
        "        b = next;\n",
        "    }\n",
        "    cout << endl;\n",
        "}\n",
        "\n",
        "int main() {\n",
        "    int terms;\n",
        "    cout << \"Enter the number of terms: \";\n",
        "    cin >> terms;\n",
        "\n",
        "    cout << \"Fibonacci sequence up to \" << terms << \" terms:\" << endl;\n",
        "    fibonacci(terms);\n",
        "\n",
        "    return 0;\n",
        "}\n"
      ],
      "metadata": {
        "id": "7nJqF9sTtUov",
        "outputId": "1ae96861-933b-4b0f-9df5-d1b346ac2742",
        "colab": {
          "base_uri": "https://localhost:8080/"
        }
      },
      "execution_count": null,
      "outputs": [
        {
          "output_type": "stream",
          "name": "stdout",
          "text": [
            "Writing fibonacci.cpp\n"
          ]
        }
      ]
    },
    {
      "cell_type": "code",
      "source": [
        "!g++ fibonacci.cpp"
      ],
      "metadata": {
        "id": "AvtCmmiytYF5"
      },
      "execution_count": null,
      "outputs": []
    },
    {
      "cell_type": "code",
      "source": [
        "!./a.out"
      ],
      "metadata": {
        "id": "HuFMH2yntbyz",
        "outputId": "fd211fcc-b742-4b29-849e-c18fe71e08ce",
        "colab": {
          "base_uri": "https://localhost:8080/"
        }
      },
      "execution_count": null,
      "outputs": [
        {
          "output_type": "stream",
          "name": "stdout",
          "text": [
            "Enter the number of terms: 4\n",
            "Fibonacci sequence up to 4 terms:\n",
            "0 1 1 2 \n"
          ]
        }
      ]
    },
    {
      "cell_type": "markdown",
      "source": [
        "## C code"
      ],
      "metadata": {
        "id": "DaUZY4_tt4pq"
      }
    },
    {
      "cell_type": "code",
      "source": [
        "%%writefile fibonacci.c\n",
        "#include <stdio.h>\n",
        "\n",
        "void fibonacci(int n) {\n",
        "    int a = 0, b = 1, next;\n",
        "\n",
        "    for (int i = 0; i < n; ++i) {\n",
        "        printf(\"%d \", a);\n",
        "        next = a + b;\n",
        "        a = b;\n",
        "        b = next;\n",
        "    }\n",
        "    printf(\"\\n\");\n",
        "}\n",
        "\n",
        "int main() {\n",
        "    int terms;\n",
        "    printf(\"Enter the number of terms: \");\n",
        "    scanf(\"%d\", &terms);\n",
        "\n",
        "    printf(\"Fibonacci sequence up to %d terms:\\n\", terms);\n",
        "    fibonacci(terms);\n",
        "\n",
        "    return 0;\n",
        "}"
      ],
      "metadata": {
        "id": "UUd4oCBYtmWP",
        "outputId": "660541c7-9987-487f-f6e0-99f5c97701e5",
        "colab": {
          "base_uri": "https://localhost:8080/"
        }
      },
      "execution_count": null,
      "outputs": [
        {
          "output_type": "stream",
          "name": "stdout",
          "text": [
            "Writing fibonacci.c\n"
          ]
        }
      ]
    },
    {
      "cell_type": "code",
      "source": [
        "!gcc fibonacci.c"
      ],
      "metadata": {
        "id": "ZXplAn3uto0E"
      },
      "execution_count": null,
      "outputs": []
    },
    {
      "cell_type": "code",
      "source": [
        "!./a.out"
      ],
      "metadata": {
        "id": "Mpp2gA9PtvAK",
        "outputId": "170cf3db-d648-4890-c807-d071ec203f31",
        "colab": {
          "base_uri": "https://localhost:8080/"
        }
      },
      "execution_count": null,
      "outputs": [
        {
          "output_type": "stream",
          "name": "stdout",
          "text": [
            "Enter the number of terms: 4\n",
            "Fibonacci sequence up to 4 terms:\n",
            "0 1 1 2 \n"
          ]
        }
      ]
    },
    {
      "cell_type": "markdown",
      "source": [
        "## JAVA code"
      ],
      "metadata": {
        "id": "k1Po2x_7t_12"
      }
    },
    {
      "cell_type": "code",
      "source": [
        "%%writefile Fibonacci.java\n",
        "import java.util.Scanner;\n",
        "\n",
        "public class Fibonacci {\n",
        "    public static void main(String[] args) {\n",
        "        Scanner scanner = new Scanner(System.in);\n",
        "        System.out.print(\"Enter the number of terms: \");\n",
        "        int terms = scanner.nextInt();\n",
        "\n",
        "        int a = 0, b = 1, next;\n",
        "\n",
        "        System.out.println(\"Fibonacci sequence up to \" + terms + \" terms:\");\n",
        "        for (int i = 0; i < terms; i++) {\n",
        "            System.out.print(a + \" \");\n",
        "            next = a + b;\n",
        "            a = b;\n",
        "            b = next;\n",
        "        }\n",
        "        System.out.println();\n",
        "    }\n",
        "}\n"
      ],
      "metadata": {
        "id": "oPqCMmSiuCoH",
        "outputId": "96ec634e-ff45-48a4-976a-9b10a6658457",
        "colab": {
          "base_uri": "https://localhost:8080/"
        }
      },
      "execution_count": null,
      "outputs": [
        {
          "output_type": "stream",
          "name": "stdout",
          "text": [
            "Writing Fibonacci.java\n"
          ]
        }
      ]
    },
    {
      "cell_type": "code",
      "source": [
        "!javac Fibonacci.java"
      ],
      "metadata": {
        "id": "AOXfxIoFuEp8"
      },
      "execution_count": null,
      "outputs": []
    },
    {
      "cell_type": "code",
      "source": [
        "!java Fibonacci"
      ],
      "metadata": {
        "id": "HQWFNu4wuKPY",
        "outputId": "aeca8a55-99a8-4bf5-f175-d9564a89f107",
        "colab": {
          "base_uri": "https://localhost:8080/"
        }
      },
      "execution_count": null,
      "outputs": [
        {
          "output_type": "stream",
          "name": "stdout",
          "text": [
            "Enter the number of terms: 4\n",
            "Fibonacci sequence up to 4 terms:\n",
            "0 1 1 2 \n"
          ]
        }
      ]
    }
  ]
}