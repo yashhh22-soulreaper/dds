{
  "nbformat": 4,
  "nbformat_minor": 0,
  "metadata": {
    "colab": {
      "provenance": [],
      "include_colab_link": true
    },
    "kernelspec": {
      "name": "python3",
      "display_name": "Python 3"
    },
    "language_info": {
      "name": "python"
    }
  },
  "cells": [
    {
      "cell_type": "markdown",
      "metadata": {
        "id": "view-in-github",
        "colab_type": "text"
      },
      "source": [
        "<a href=\"https://colab.research.google.com/github/yashhh22-soulreaper/dds/blob/main/Module2/Lesson13.ipynb\" target=\"_parent\"><img src=\"https://colab.research.google.com/assets/colab-badge.svg\" alt=\"Open In Colab\"/></a>"
      ]
    },
    {
      "cell_type": "markdown",
      "source": [
        "# **QUEUE**\n"
      ],
      "metadata": {
        "id": "fcaU3ZTNigqk"
      }
    },
    {
      "cell_type": "markdown",
      "source": [
        "**Definition:**\n",
        "A Queue is a linear data structure that follows the FIFO (First In First Out) principle.\n",
        "This means the element inserted first is removed first."
      ],
      "metadata": {
        "id": "mZ3Kem59iuCy"
      }
    },
    {
      "cell_type": "markdown",
      "source": [
        "**Real-Life Examples :**\n",
        "\n",
        "*   Line of people at a ticket counter\n",
        "\n",
        "*   Print queue in a printer\n",
        "\n",
        "*   People moving on an escalator\n",
        "\n"
      ],
      "metadata": {
        "id": "B5iH0GWujBGa"
      }
    },
    {
      "cell_type": "markdown",
      "source": [
        "**Basic Queue Terminology :**\n",
        "* *Front -*\tPoints to the first element in the queue\n",
        "\n",
        "* *Rear -*\tPoints to the last element inserted\n",
        "* *Enqueue -*\tOperation to add an element\n",
        "* *Dequeue -*\tOperation to remove an element"
      ],
      "metadata": {
        "id": "nQxX93-y7ui-"
      }
    },
    {
      "cell_type": "markdown",
      "source": [
        " **Array Representation of Queue :**\n",
        "\n",
        "A queue using an array is represented with:\n",
        "\n",
        "* An array to store elements\n",
        "\n",
        "* Two pointers:\n",
        "\n",
        "  * front → index of the first element\n",
        "\n",
        "  * rear → index where the next element will be inserted"
      ],
      "metadata": {
        "id": "Uh0hLxFQjhNd"
      }
    },
    {
      "cell_type": "markdown",
      "source": [
        "**Basic Structure:**"
      ],
      "metadata": {
        "id": "FgdnFi2WkCSa"
      }
    },
    {
      "cell_type": "code",
      "source": [
        "#define SIZE 100\n",
        "int queue[SIZE];\n",
        "int front = -1, rear = -1;\n"
      ],
      "metadata": {
        "id": "cX0jr4d6j8gX"
      },
      "execution_count": null,
      "outputs": []
    },
    {
      "cell_type": "markdown",
      "source": [
        "**Conditions:**\n",
        "\n",
        "* *Queue is empty :*  front == -1 && rear == -1\n",
        "\n",
        "* *Queue is full :*  rear == SIZE - 1"
      ],
      "metadata": {
        "id": "UjKviU2hkS8T"
      }
    },
    {
      "cell_type": "markdown",
      "source": [
        "# **✅ Pros of Queue :**"
      ],
      "metadata": {
        "id": "nx2eqS2PCXev"
      }
    },
    {
      "cell_type": "markdown",
      "source": [
        "\n",
        "1. **FIFO Order (First In, First Out):**\n",
        "\n",
        " * Maintains a logical and fair ordering of elements.\n",
        "\n",
        " * Ideal for scheduling (e.g., CPU task scheduling, printer queue).\n",
        "\n",
        "2. **Efficient Enqueue and Dequeue:**\n",
        "\n",
        " * Operations like insertion (enqueue) and deletion (dequeue) are O(1) in simple queue implementations using arrays or linked lists.\n",
        "\n",
        "3. **Useful in Real-World Scenarios:**\n",
        "\n",
        " * Models many real-world systems like ticket counters, call centers, task queues, and data buffers.\n",
        "\n",
        "4. **Easy to Implement:**\n",
        "\n",
        " * Can be implemented using arrays, linked lists, or dynamic structures like circular buffers or double-ended queues (deque).\n",
        "\n",
        "5. **Supports Multiple Variants:**\n",
        "\n",
        " * Variants like circular queue, priority queue, and deque increase its flexibility for different use-cases.\n",
        "\n"
      ],
      "metadata": {
        "id": "qHrydX8z_Rze"
      }
    },
    {
      "cell_type": "markdown",
      "source": [
        "# **❌ Cons of Queue:**"
      ],
      "metadata": {
        "id": "MPtTkjuJCmeX"
      }
    },
    {
      "cell_type": "markdown",
      "source": [
        "\n",
        "1. **Limited Access:**\n",
        "\n",
        " * Only allows access to the front and rear elements.\n",
        "\n",
        " * No direct access to the middle or random elements.\n",
        "\n",
        "2. **Static Size in Array Implementation:**\n",
        "\n",
        " * In array-based queues, size must be predefined, leading to wasted space or overflow if not handled correctly.\n",
        "\n",
        "3. **Shifting Overhead (in simple arrays):**\n",
        "\n",
        " * In linear queues implemented using arrays, frequent shifting of elements may be required after deletion, unless circular queue is used.\n",
        "\n",
        "4. **Inefficient Search:**\n",
        "\n",
        " * Searching an element takes O(n) time; not suitable when frequent search operations are needed.\n",
        "\n",
        "5. **Complexity Increases for Advanced Features:**\n",
        "\n",
        " * Implementing priority or double-ended queues introduces additional logic and complexity."
      ],
      "metadata": {
        "id": "VvjtJmxjCiqv"
      }
    },
    {
      "cell_type": "markdown",
      "source": [
        "#  **Queue Operations :**"
      ],
      "metadata": {
        "id": "DPW2Cd5_kZc4"
      }
    },
    {
      "cell_type": "markdown",
      "source": [
        "\n",
        "\n",
        "1.   **Enqueue (Insert)**\n",
        "\n",
        "        **Purpose:** Add an element at the rear of the queue.\n",
        "\n",
        "\n"
      ],
      "metadata": {
        "id": "2VkGNirVkieS"
      }
    },
    {
      "cell_type": "code",
      "source": [
        "void enqueue(int value) {\n",
        "    if (rear == SIZE - 1)\n",
        "        printf(\"Queue is full\\n\");\n",
        "    else {\n",
        "        if (front == -1) front = 0;\n",
        "        queue[++rear] = value;\n",
        "    }\n",
        "}\n"
      ],
      "metadata": {
        "id": "YTk_zOfwodA9"
      },
      "execution_count": null,
      "outputs": []
    },
    {
      "cell_type": "markdown",
      "source": [
        "2.   **Dequeue (Remove)**\n",
        "\n",
        " **Purpose:** Remove an element from the front of the queue."
      ],
      "metadata": {
        "id": "czhyNYWIooSe"
      }
    },
    {
      "cell_type": "code",
      "source": [
        "void dequeue() {\n",
        "    if (front == -1 || front > rear)\n",
        "        printf(\"Queue is empty\\n\");\n",
        "    else\n",
        "        front++;\n",
        "}\n"
      ],
      "metadata": {
        "id": "z-I0XyuOo2aE"
      },
      "execution_count": null,
      "outputs": []
    },
    {
      "cell_type": "markdown",
      "source": [
        "3.  **Peek / Front**\n",
        "\n",
        " **Purpose:** View the front element without removing it.\n",
        "\n"
      ],
      "metadata": {
        "id": "Qrad41p8o6aw"
      }
    },
    {
      "cell_type": "code",
      "source": [
        "int peek() {\n",
        "    if (front == -1 || front > rear)\n",
        "        printf(\"Queue is empty\\n\");\n",
        "    else\n",
        "        return queue[front];\n",
        "}"
      ],
      "metadata": {
        "id": "c_LWLuirpHPB"
      },
      "execution_count": null,
      "outputs": []
    },
    {
      "cell_type": "markdown",
      "source": [
        "\n",
        "\n",
        "4.   **Display Queue**\n",
        "\n",
        " **Purpose:** Show all elements from front to rear.\n"
      ],
      "metadata": {
        "id": "I6y4wsoupQKm"
      }
    },
    {
      "cell_type": "code",
      "source": [
        "void display() {\n",
        "    if (front == -1 || front > rear)\n",
        "        printf(\"Queue is empty\\n\");\n",
        "    else {\n",
        "        for (int i = front; i <= rear; i++)\n",
        "            printf(\"%d \", queue[i]);\n",
        "    }\n",
        "}\n"
      ],
      "metadata": {
        "id": "sNNg1X4Ipcrq"
      },
      "execution_count": null,
      "outputs": []
    },
    {
      "cell_type": "markdown",
      "source": [
        "5. **isFull( ) / isEmpty( )**\n",
        "\n",
        " *isFull( ):-*\tCheck if the queue is full\n",
        "\n",
        " *isEmpty( ):-*\tCheck if the queue is empty"
      ],
      "metadata": {
        "id": "wM8MPS6tDMKX"
      }
    },
    {
      "cell_type": "code",
      "source": [
        "// Check if queue is full\n",
        "int isFull() {\n",
        "    return rear == SIZE - 1;\n",
        "}\n",
        "\n",
        "// Check if queue is empty\n",
        "int isEmpty() {\n",
        "    return front == -1 || front > rear;\n",
        "}"
      ],
      "metadata": {
        "id": "IGuDGFB0EZTW"
      },
      "execution_count": null,
      "outputs": []
    },
    {
      "cell_type": "markdown",
      "source": [
        "# Circular Queue\n",
        "**Introduction :**\n",
        "A Circular Queue is a linear data structure that connects the last position back to the first position, forming a circle.\n",
        "\n",
        "It solves the problem of unused space in a normal queue after dequeuing elements."
      ],
      "metadata": {
        "id": "5pRCWG78sMP0"
      }
    },
    {
      "cell_type": "markdown",
      "source": [
        "**Why Circular?**\n",
        "\n",
        "In a normal queue using arrays:\n",
        "\n",
        "* After some dequeue() operations, space at the front becomes unusable.\n",
        "\n",
        "* Even if space is available at the front, new elements can't be added if rear is at the last index.\n",
        "\n",
        "Circular queue reuses this free space."
      ],
      "metadata": {
        "id": "rfzhNvw7slFB"
      }
    },
    {
      "cell_type": "markdown",
      "source": [
        "**Array Implementation of Circular Queue**\n",
        "\n"
      ],
      "metadata": {
        "id": "Na2D1iSstBeb"
      }
    },
    {
      "cell_type": "code",
      "source": [
        "#define SIZE 5\n",
        "int queue[SIZE];\n",
        "int front = -1, rear = -1;\n",
        "\n",
        "void enqueue(int value) {\n",
        "    if ((front == 0 && rear == SIZE-1) || (rear + 1) % SIZE == front) {\n",
        "        printf(\"Queue is full\\n\");\n",
        "    } else {\n",
        "        if (front == -1) front = 0;\n",
        "        rear = (rear + 1) % SIZE;\n",
        "        queue[rear] = value;\n",
        "    }\n",
        "}\n",
        "\n",
        "void dequeue() {\n",
        "    if (front == -1) {\n",
        "        printf(\"Queue is empty\\n\");\n",
        "    } else {\n",
        "        if (front == rear) {\n",
        "            front = rear = -1; // Queue is now empty\n",
        "        } else {\n",
        "            front = (front + 1) % SIZE;\n",
        "        }\n",
        "    }\n",
        "}"
      ],
      "metadata": {
        "id": "sSZ1biSLvovP"
      },
      "execution_count": null,
      "outputs": []
    },
    {
      "cell_type": "markdown",
      "source": [
        "**Circular Queue using Dynamic Arrays**\n",
        "\n",
        "When we don’t want to fix the size, we can use **dynamic memory allocation**:\n",
        "\n",
        "➤ **Steps:**\n",
        "1. Use `malloc()` or `new` to allocate memory.\n",
        "2. Use modulo `% capacity` to wrap around.\n",
        "3. Resize (double size) when full (optional).\n",
        "\n",
        "**Example in C:**\n"
      ],
      "metadata": {
        "id": "AJ66_bOswIET"
      }
    },
    {
      "cell_type": "code",
      "source": [
        "int* queue;\n",
        "int capacity = 5;\n",
        "int front = -1, rear = -1;\n",
        "\n",
        "queue = (int*) malloc(sizeof(int) * capacity);\n",
        "\n",
        "int isFull() {\n",
        "    return (front == 0 && rear == capacity - 1) ||\n",
        "     ((rear + 1) % capacity == front);\n",
        "}\n",
        "\n",
        "void enqueue(int val) {\n",
        "    if (isFull()) {\n",
        "        printf(\"Queue is full\\n\");\n",
        "        return;\n",
        "    }\n",
        "    if (front == -1) front = 0;\n",
        "    rear = (rear + 1) % capacity;\n",
        "    queue[rear] = val;\n",
        "}"
      ],
      "metadata": {
        "id": "olLrqZefwOU1"
      },
      "execution_count": null,
      "outputs": []
    },
    {
      "cell_type": "markdown",
      "source": [
        "**Advantages of Circular Queue**\n",
        "* Efficient use of memory (no unused space).\n",
        "\n",
        "* Works well for buffer management (e.g., CPU scheduling, streaming)."
      ],
      "metadata": {
        "id": "9vcz2ghrwtzv"
      }
    },
    {
      "cell_type": "markdown",
      "source": [
        "**Applications**\n",
        "\n",
        "* CPU Scheduling\n",
        "\n",
        "* Memory Buffering\n",
        "\n",
        "* Printer Queue\n",
        "\n",
        "* Traffic systems"
      ],
      "metadata": {
        "id": "DCFMweCJw8wZ"
      }
    }
  ]
}