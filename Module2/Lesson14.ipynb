{
  "nbformat": 4,
  "nbformat_minor": 0,
  "metadata": {
    "colab": {
      "provenance": [],
      "include_colab_link": true
    },
    "kernelspec": {
      "name": "python3",
      "display_name": "Python 3"
    },
    "language_info": {
      "name": "python"
    }
  },
  "cells": [
    {
      "cell_type": "markdown",
      "metadata": {
        "id": "view-in-github",
        "colab_type": "text"
      },
      "source": [
        "<a href=\"https://colab.research.google.com/github/yashhh22-soulreaper/dds/blob/main/Module2/Lesson14.ipynb\" target=\"_parent\"><img src=\"https://colab.research.google.com/assets/colab-badge.svg\" alt=\"Open In Colab\"/></a>"
      ]
    },
    {
      "cell_type": "markdown",
      "source": [
        "# **Deque (Double-Ended Queue)**"
      ],
      "metadata": {
        "id": "fwnH_IaUQF_p"
      }
    },
    {
      "cell_type": "markdown",
      "source": [
        "**Definition:**\n",
        "\n",
        "* Dequeue is the short notation used for double ended queue.\n",
        "* The usual practice is :\n",
        "  * for insertion of element we use one end called rear and\n",
        "  * for deletion of elements we use front end.\n",
        "* In dequeue we make use of both the ends for insertion of the elements as well\n",
        "as we can use both the ends for deletion of the elements.\n",
        "*In simple words, it is a linear list in which elements can be added or removed\n",
        "from either ends but not in the mid\n",
        "\n",
        "**\"A Deque (pronounced “deck”) is a linear data structure that allows insertion and deletion from both front and rear ends.\"**"
      ],
      "metadata": {
        "id": "JYtt977FQPWA"
      }
    },
    {
      "cell_type": "markdown",
      "source": [
        " **Types of Deque:**\n",
        "\n",
        " 1. Input-Restricted Deque – Insertion only at one end (rear), deletion from both ends.\n",
        "\n",
        " 2. Output-Restricted Deque – Deletion only from one end (front), insertion from both ends."
      ],
      "metadata": {
        "id": "4kvfk3PGQXvt"
      }
    },
    {
      "cell_type": "markdown",
      "source": [
        "**Operations on Deque:**\n",
        "\n",
        "* *insertFront( )* :-\tInserts an element at the front\n",
        "* *insertRear( )* :-\tInserts an element at the rear\n",
        "* *deleteFront( )* :-\tDeletes an element from the front\n",
        "* *deleteRear( )* :-\tDeletes an element from the rear\n",
        "* *getFront( )* :-\tGets the front element\n",
        "* *getRear( )* :-\tGets the rear element\n",
        "* *isEmpty( )* :-\tChecks if deque is empty\n",
        "* *isFull( )* :- Checks if deque is full (in array version)"
      ],
      "metadata": {
        "id": "Ugz6d4IVQtvs"
      }
    },
    {
      "cell_type": "markdown",
      "source": [
        "**Implementation:**\n",
        "\n",
        "a) Array-based Deque\n",
        "* Fixed size\n",
        "\n",
        "* Needs modulo operations for wrap-around (circular behavior)\n",
        "\n",
        "b) Linked List-based Deque\n",
        "* Dynamic size\n",
        "\n",
        "* Uses Doubly Linked List (efficient insert/delete from both ends)"
      ],
      "metadata": {
        "id": "Lk2wX8zqSFze"
      }
    },
    {
      "cell_type": "markdown",
      "source": [
        "**Use Cases:**\n",
        "\n",
        "* Undo/Redo operations\n",
        "\n",
        "* Browser history (back/forward)\n",
        "\n",
        "* Palindrome checker\n",
        "\n",
        "* Sliding window problems\n",
        "\n"
      ],
      "metadata": {
        "id": "8Q-5LWi_Spv_"
      }
    },
    {
      "cell_type": "markdown",
      "source": [
        "# **Priority Queue**"
      ],
      "metadata": {
        "id": "rWPx6SSqTKqx"
      }
    },
    {
      "cell_type": "markdown",
      "source": [
        "**Definition:**\n",
        "\n",
        "* It is a collection of elements such that each element has been assigned a\n",
        "priority and the order in which elements are processed and deleted follows\n",
        "following rules:\n",
        "* An element with higher priority is processed before any element with lower\n",
        "priority.\n",
        "* Two elements with same priority are processed on FCFS (First Come First\n",
        "Serve) basis\n",
        "\n",
        "  \"A Priority Queue is a special type of queue where each element is associated with a priority, and elements are dequeued based on priority, not just order.\"\n",
        "\n"
      ],
      "metadata": {
        "id": "jYegXu2wTUCf"
      }
    },
    {
      "cell_type": "markdown",
      "source": [
        " **Types of Priority Queues:**\n",
        "\n",
        "1. Ascending Priority Queue – Lower numbers = higher priority\n",
        "\n",
        "2. Descending Priority Queue – Higher numbers = higher priority\n",
        "\n",
        "3. Min Priority Queue – Extracts minimum\n",
        "\n",
        "4. Max Priority Queue – Extracts maximum"
      ],
      "metadata": {
        "id": "jodzx2r-Tfd4"
      }
    },
    {
      "cell_type": "markdown",
      "source": [
        "**Operations:**\n",
        "\n",
        "*insert()* :-\tInsert an element with priority\n",
        "\n",
        "*getHighest()* :-\tGet the element with the highest priority\n",
        "\n",
        "*deleteHighest()* :-\tDelete the highest-priority element\n",
        "\n",
        "\n",
        "\n",
        " initialize(): Make the empty queue.\n",
        "\n",
        " full(): Check if the queue is full or not.\n",
        "\n",
        " empty(): Check if the queue is empty or not.\n",
        "\n",
        " enqueue(): Insert an element as per its priority.\n",
        "\n",
        " dequeue(): Delete the element in front(as front element has\n",
        "the highest priority).\n",
        "\n",
        " print(): Print queue ele"
      ],
      "metadata": {
        "id": "atk-_ZIsT0zU"
      }
    },
    {
      "cell_type": "markdown",
      "source": [
        "**Implementation:**\n",
        "\n",
        "a) Using Arrays / Linked Lists:\n",
        "\n",
        "* Simple, but inefficient for large data\n",
        "\n",
        "* Time: O(n) for insertion/deletion based on priority\n",
        "\n",
        "b) Using Heaps (Binary Heap):\n",
        "\n",
        "* Efficient implementation\n",
        "\n",
        "* Time: O(log n) for insert and remove"
      ],
      "metadata": {
        "id": "VDtvd4kBVap9"
      }
    },
    {
      "cell_type": "markdown",
      "source": [
        "**Use Cases:**\n",
        "\n",
        "* Dijkstra’s algorithm (Shortest Path)\n",
        "\n",
        "* CPU Scheduling\n",
        "\n",
        "* Data compression (Huffman Coding)\n",
        "\n",
        "* AI (A* Search)"
      ],
      "metadata": {
        "id": "Tk1bmHuXVuCh"
      }
    },
    {
      "cell_type": "markdown",
      "source": [
        "# **Common Problems and Solutions**"
      ],
      "metadata": {
        "id": "PHVkUOgSV-SW"
      }
    },
    {
      "cell_type": "markdown",
      "source": [
        "**Deque Problems:**\n",
        "\n",
        "Problem \t  Description\t        Solution\n",
        "\n",
        "Overflow   \tInserting when deque is full (in array version)      \tUse dynamic array or linked list\n",
        "\n",
        "Underflow   \tDeleting from empty deque\t      Check isEmpty() before deleting\n",
        "\n",
        "Circular wrap    \tRear/Front pointers go out of bounds\t     Use modulo % size to wrap around"
      ],
      "metadata": {
        "id": "egImb4dMWEL7"
      }
    },
    {
      "cell_type": "markdown",
      "source": [
        " **Priority Queue Problems:**\n",
        "\n",
        "Problem\t    Description\t   Solution\n",
        "\n",
        "Inefficient Insert/Delete    \tNaive array takes O(n)\t     Use Binary Heap\n",
        "\n",
        "Duplicate Priorities    \tMultiple elements with same priority\t   Use secondary criteria (like timestamp)\n",
        "\n",
        "Overflow          \tInserting more than capacity\t        Use dynamic resizing (or linked structure)\n",
        "\n",
        "Starvation\t            Low priority items may never get processed\t       Use aging technique to increase priority over time"
      ],
      "metadata": {
        "id": "4-s01NXWXNMp"
      }
    }
  ]
}