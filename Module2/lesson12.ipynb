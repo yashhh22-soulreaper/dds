{
  "nbformat": 4,
  "nbformat_minor": 0,
  "metadata": {
    "colab": {
      "provenance": [],
      "include_colab_link": true
    },
    "kernelspec": {
      "name": "python3",
      "display_name": "Python 3"
    },
    "language_info": {
      "name": "python"
    }
  },
  "cells": [
    {
      "cell_type": "markdown",
      "metadata": {
        "id": "view-in-github",
        "colab_type": "text"
      },
      "source": [
        "<a href=\"https://colab.research.google.com/github/yashhh22-soulreaper/dds/blob/main/Module2/lesson12.ipynb\" target=\"_parent\"><img src=\"https://colab.research.google.com/assets/colab-badge.svg\" alt=\"Open In Colab\"/></a>"
      ]
    },
    {
      "cell_type": "markdown",
      "source": [],
      "metadata": {
        "id": "QQlwmKs3jA0r"
      }
    },
    {
      "cell_type": "markdown",
      "source": [
        "**Lesson 12: Recursion:Tower of Hanoi**"
      ],
      "metadata": {
        "id": "Yivqh77FjCcn"
      }
    },
    {
      "cell_type": "markdown",
      "source": [
        "**What is Tower of Hanoi?**\n",
        "\n",
        "Tower of Hanoi is a mathematical puzzle involving three rods and N disks. The objective is to move all disks from the source rod to the destination rod, using an auxiliary rod, following these rules:\n",
        "\n",
        "    1)Only one disk can be moved at a time.\n",
        "    2)You can only move the top disk of a stack.\n",
        "    3)A larger disk cannot be placed on top of a smaller disk."
      ],
      "metadata": {
        "id": "TuACVnAsspql"
      }
    },
    {
      "cell_type": "markdown",
      "source": [
        "**Why is Recursion Needed?**\n",
        "\n",
        "Tower of Hanoi is a recursive problem by nature, because:\n",
        "\n",
        "    To move n disks, we need to:\n",
        "\n",
        "    Move n-1 disks to the auxiliary rod (sub-problem),\n",
        "\n",
        "    Move the nth disk directly,\n",
        "\n",
        "    Move n-1 disks again to the destination rod.\n",
        "\n",
        "Each step breaks down the same problem into a smaller version of itself, which is perfect for recursion."
      ],
      "metadata": {
        "id": "sbIqS9yFs-p1"
      }
    },
    {
      "cell_type": "markdown",
      "source": [
        "**Problem Logic (Recursive Strategy)**\n",
        "\n",
        "To move n disks from source (A) to destination (C) using auxiliary (B):\n",
        "\n",
        "Move n-1 disks from A → B using C.\n",
        "\n",
        "Move 1 disk from A → C.\n",
        "\n",
        "Move n-1 disks from B → C using A.\n",
        "\n",
        "This continues until n == 1, the base case."
      ],
      "metadata": {
        "id": "Gp-fMSFVtJps"
      }
    },
    {
      "cell_type": "markdown",
      "source": [
        "** Number of Moves**\n",
        "\n",
        "Minimum number of moves required = 2^n - 1\n",
        "\n",
        "Where n is the number of disks."
      ],
      "metadata": {
        "id": "e57igUxBtnhg"
      }
    },
    {
      "cell_type": "code",
      "source": [
        "#include <stdio.h>\n",
        "\n",
        "void towerOfHanoi(int n, char from_rod, char to_rod, char aux_rod) {\n",
        "    if (n == 1) {\n",
        "        // Base case: Only one disk, move it directly\n",
        "        printf(\"Move disk 1 from rod %c to rod %c\\n\", from_rod, to_rod);\n",
        "        return;\n",
        "    }\n",
        "\n",
        "    // Step 1: Move top n-1 disks from source to auxiliary\n",
        "    towerOfHanoi(n - 1, from_rod, aux_rod, to_rod);\n",
        "\n",
        "    // Step 2: Move nth disk to destination\n",
        "    printf(\"Move disk %d from rod %c to rod %c\\n\", n, from_rod, to_rod);\n",
        "\n",
        "    // Step 3: Move n-1 disks from auxiliary to destination\n",
        "    towerOfHanoi(n - 1, aux_rod, to_rod, from_rod);\n",
        "}\n",
        "\n",
        "int main() {\n",
        "    int n; // Number of disks\n",
        "    printf(\"Enter number of disks: \");\n",
        "    scanf(\"%d\", &n);\n",
        "\n",
        "    printf(\"\\nSteps to solve Tower of Hanoi:\\n\\n\");\n",
        "    towerOfHanoi(n, 'A', 'C', 'B'); // A = source, C = destination, B = auxiliary\n",
        "\n",
        "    return 0;\n",
        "}\n"
      ],
      "metadata": {
        "id": "oGxn7OI2tvb9"
      },
      "execution_count": null,
      "outputs": []
    }
  ]
}