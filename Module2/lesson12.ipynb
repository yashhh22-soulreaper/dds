{
  "nbformat": 4,
  "nbformat_minor": 0,
  "metadata": {
    "colab": {
      "provenance": [],
      "include_colab_link": true
    },
    "kernelspec": {
      "name": "python3",
      "display_name": "Python 3"
    },
    "language_info": {
      "name": "python"
    }
  },
  "cells": [
    {
      "cell_type": "markdown",
      "metadata": {
        "id": "view-in-github",
        "colab_type": "text"
      },
      "source": [
        "<a href=\"https://colab.research.google.com/github/yashhh22-soulreaper/dds/blob/main/Module2/lesson12.ipynb\" target=\"_parent\"><img src=\"https://colab.research.google.com/assets/colab-badge.svg\" alt=\"Open In Colab\"/></a>"
      ]
    },
    {
      "cell_type": "markdown",
      "source": [
        "# 📘 Lesson 12: Recursion – Tower of Hanoi\n",
        "\n",
        "## 🎯 Objectives:\n",
        "- Understand recursion through a classic problem: **Tower of Hanoi**\n",
        "- Break down complex problems into smaller recursive steps\n",
        "- Implement the logic in **C, C++, Java, and Python**\n",
        "- Learn how function calls create a recursive call stack\n",
        "\n",
        "---\n",
        "\n",
        "## 🗼 Problem Statement:\n",
        "\n",
        "Tower of Hanoi is a puzzle where you move **n disks** from a **Source pole (A)** to a **Destination pole (C)** using an **Auxiliary pole (B)**, following these rules:\n",
        "\n",
        "1. Only one disk can be moved at a time\n",
        "2. Only the top disk can be moved\n",
        "3. No larger disk may be placed on top of a smaller one\n",
        "\n",
        "---\n",
        "\n",
        "## 🧠 Recursive Logic:\n",
        "\n",
        "To move `n` disks from A to C:\n",
        "1. Move `n-1` disks from A to B\n",
        "2. Move the nth disk from A to C\n",
        "3. Move `n-1` disks from B to C\n",
        "\n",
        "This pattern continues until `n = 1` (base case)\n",
        "\n",
        "Let’s implement it!\n",
        "### 📈 Time Complexity: O(2ⁿ)"
      ],
      "metadata": {
        "id": "QQlwmKs3jA0r"
      }
    },
    {
      "cell_type": "code",
      "source": [
        "def hanoi(n, source, destination, auxiliary):\n",
        "    if n == 1:\n",
        "        print(f\"Move disk 1 from {source} to {destination}\")\n",
        "        return\n",
        "    hanoi(n - 1, source, auxiliary, destination)\n",
        "    print(f\"Move disk {n} from {source} to {destination}\")\n",
        "    hanoi(n - 1, auxiliary, destination, source)\n",
        "\n",
        "# 🔍 Test\n",
        "n_disks = 3\n",
        "print(f\"Steps to solve Tower of Hanoi for {n_disks} disks:\\n\")\n",
        "hanoi(n_disks, 'A', 'C', 'B')\n"
      ],
      "metadata": {
        "id": "ThXTS3kwSp5v",
        "outputId": "bab18265-a8d5-459e-d222-60b5315cca3c",
        "colab": {
          "base_uri": "https://localhost:8080/"
        }
      },
      "execution_count": null,
      "outputs": [
        {
          "output_type": "stream",
          "name": "stdout",
          "text": [
            "Steps to solve Tower of Hanoi for 3 disks:\n",
            "\n",
            "Move disk 1 from A to C\n",
            "Move disk 2 from A to B\n",
            "Move disk 1 from C to B\n",
            "Move disk 3 from A to C\n",
            "Move disk 1 from B to A\n",
            "Move disk 2 from B to C\n",
            "Move disk 1 from A to C\n"
          ]
        }
      ]
    },
    {
      "cell_type": "markdown",
      "source": [
        "---\n",
        "\n",
        "## 📊 Expected Output (for 3 disks):\n",
        "\n",
        "1. Move disk 1 from A to C  \n",
        "2. Move disk 2 from A to B  \n",
        "3. Move disk 1 from C to B  \n",
        "4. Move disk 3 from A to C  \n",
        "5. Move disk 1 from B to A  \n",
        "6. Move disk 2 from B to C  \n",
        "7. Move disk 1 from A to C\n",
        "\n",
        "---\n",
        "\n",
        "## 📘 Time Complexity:\n",
        "Tower of Hanoi has **exponential time complexity**:  \n",
        "T(n) = 2T(n−1) + 1 → **O(2ⁿ)**\n",
        "\n",
        "Each additional disk **doubles** the number of moves.\n"
      ],
      "metadata": {
        "id": "yVfcyTb3bzID"
      }
    },
    {
      "cell_type": "code",
      "source": [
        "c_code = \"\"\"\n",
        "#include <stdio.h>\n",
        "\n",
        "void hanoi(int n, char source, char destination, char auxiliary) {\n",
        "    if (n == 1) {\n",
        "        printf(\"Move disk 1 from %c to %c\\\\n\", source, destination);\n",
        "        return;\n",
        "    }\n",
        "    hanoi(n - 1, source, auxiliary, destination);\n",
        "    printf(\"Move disk %d from %c to %c\\\\n\", n, source, destination);\n",
        "    hanoi(n - 1, auxiliary, destination, source);\n",
        "}\n",
        "\n",
        "int main() {\n",
        "    int n = 3;\n",
        "    printf(\"Steps to solve Tower of Hanoi for %d disks:\\\\n\\\\n\", n);\n",
        "    hanoi(n, 'A', 'C', 'B');\n",
        "    return 0;\n",
        "}\n",
        "\"\"\"\n",
        "\n",
        "with open(\"lesson12_hanoi.c\", \"w\") as f:\n",
        "    f.write(c_code)\n"
      ],
      "metadata": {
        "id": "wWS8oEdwb3Qx"
      },
      "execution_count": null,
      "outputs": []
    },
    {
      "cell_type": "code",
      "source": [
        "!gcc lesson12_hanoi.c -o lesson12\n"
      ],
      "metadata": {
        "id": "mjJ5sDlXb6he"
      },
      "execution_count": null,
      "outputs": []
    },
    {
      "cell_type": "code",
      "source": [
        "!./lesson12\n"
      ],
      "metadata": {
        "id": "xql6fL1ib7-Y",
        "outputId": "675a56e0-10ee-4d55-9853-8733ec505b75",
        "colab": {
          "base_uri": "https://localhost:8080/"
        }
      },
      "execution_count": null,
      "outputs": [
        {
          "output_type": "stream",
          "name": "stdout",
          "text": [
            "Steps to solve Tower of Hanoi for 3 disks:\n",
            "\n",
            "Move disk 1 from A to C\n",
            "Move disk 2 from A to B\n",
            "Move disk 1 from C to B\n",
            "Move disk 3 from A to C\n",
            "Move disk 1 from B to A\n",
            "Move disk 2 from B to C\n",
            "Move disk 1 from A to C\n"
          ]
        }
      ]
    },
    {
      "cell_type": "markdown",
      "source": [
        "### C++"
      ],
      "metadata": {
        "id": "ljiaSSMSdR8n"
      }
    },
    {
      "cell_type": "code",
      "source": [
        "cpp_code = \"\"\"\n",
        "#include <iostream>\n",
        "using namespace std;\n",
        "\n",
        "void hanoi(int n, char source, char destination, char auxiliary) {\n",
        "    if (n == 1) {\n",
        "        cout << \"Move disk 1 from \" << source << \" to \" << destination << endl;\n",
        "        return;\n",
        "    }\n",
        "    hanoi(n - 1, source, auxiliary, destination);\n",
        "    cout << \"Move disk \" << n << \" from \" << source << \" to \" << destination << endl;\n",
        "    hanoi(n - 1, auxiliary, destination, source);\n",
        "}\n",
        "\n",
        "int main() {\n",
        "    int n = 3;\n",
        "    cout << \"🧪 Tower of Hanoi (C++):\" << endl << endl;\n",
        "    hanoi(n, 'A', 'C', 'B');\n",
        "    return 0;\n",
        "}\n",
        "\"\"\"\n",
        "with open(\"lesson12_hanoi.cpp\", \"w\") as f:\n",
        "    f.write(cpp_code)\n"
      ],
      "metadata": {
        "id": "fJ-ZAf4gdVYu"
      },
      "execution_count": null,
      "outputs": []
    },
    {
      "cell_type": "code",
      "source": [
        "!g++ lesson12_hanoi.cpp -o hanoi_cpp && ./hanoi_cpp\n"
      ],
      "metadata": {
        "id": "0eYHn5jqdYRV",
        "outputId": "8c61f94a-de75-4e58-ed9c-52014bfa04c4",
        "colab": {
          "base_uri": "https://localhost:8080/"
        }
      },
      "execution_count": null,
      "outputs": [
        {
          "output_type": "stream",
          "name": "stdout",
          "text": [
            "🧪 Tower of Hanoi (C++):\n",
            "\n",
            "Move disk 1 from A to C\n",
            "Move disk 2 from A to B\n",
            "Move disk 1 from C to B\n",
            "Move disk 3 from A to C\n",
            "Move disk 1 from B to A\n",
            "Move disk 2 from B to C\n",
            "Move disk 1 from A to C\n"
          ]
        }
      ]
    },
    {
      "cell_type": "markdown",
      "source": [
        "### JAVA"
      ],
      "metadata": {
        "id": "CK45TU1wdcZQ"
      }
    },
    {
      "cell_type": "code",
      "source": [
        "java_code = \"\"\"\n",
        "public class Hanoi {\n",
        "    public static void hanoi(int n, char source, char destination, char auxiliary) {\n",
        "        if (n == 1) {\n",
        "            System.out.println(\"Move disk 1 from \" + source + \" to \" + destination);\n",
        "            return;\n",
        "        }\n",
        "        hanoi(n - 1, source, auxiliary, destination);\n",
        "        System.out.println(\"Move disk \" + n + \" from \" + source + \" to \" + destination);\n",
        "        hanoi(n - 1, auxiliary, destination, source);\n",
        "    }\n",
        "\n",
        "    public static void main(String[] args) {\n",
        "        int n = 3;\n",
        "        System.out.println(\"🧪 Tower of Hanoi (Java):\\\\n\");\n",
        "        hanoi(n, 'A', 'C', 'B');\n",
        "    }\n",
        "}\n",
        "\"\"\"\n",
        "with open(\"Hanoi.java\", \"w\") as f:\n",
        "    f.write(java_code)\n"
      ],
      "metadata": {
        "id": "Pev1i8TsdaRH"
      },
      "execution_count": null,
      "outputs": []
    },
    {
      "cell_type": "code",
      "source": [
        "!javac Hanoi.java && java Hanoi"
      ],
      "metadata": {
        "id": "QUoLZbpud0Gz",
        "outputId": "af69792a-6a10-4931-d494-d52d0828651a",
        "colab": {
          "base_uri": "https://localhost:8080/"
        }
      },
      "execution_count": null,
      "outputs": [
        {
          "output_type": "stream",
          "name": "stdout",
          "text": [
            "🧪 Tower of Hanoi (Java):\n",
            "\n",
            "Move disk 1 from A to C\n",
            "Move disk 2 from A to B\n",
            "Move disk 1 from C to B\n",
            "Move disk 3 from A to C\n",
            "Move disk 1 from B to A\n",
            "Move disk 2 from B to C\n",
            "Move disk 1 from A to C\n"
          ]
        }
      ]
    },
    {
      "cell_type": "markdown",
      "source": [
        "---\n",
        "\n",
        "## ✅ Summary\n",
        "\n",
        "- Tower of Hanoi illustrates **recursive thinking**\n",
        "- Base case: `n = 1` is solved directly\n",
        "- Recursive case: problem is broken into smaller sub-problems\n",
        "- Total moves: **2ⁿ − 1**\n",
        "\n",
        "---\n",
        "\n",
        "## 📘 Viva Questions:\n",
        "\n",
        "1. What is recursion?\n",
        "2. What is the base case in Tower of Hanoi?\n",
        "3. How many moves are required for n disks?\n",
        "4. What is the time complexity of Tower of Hanoi?\n",
        "\n",
        "⏭️ Next: **Lesson 13: Queues: Definition, Operations, Circular Queues**\n",
        "\n"
      ],
      "metadata": {
        "id": "tS0ZS4mXb-Cv"
      }
    }
  ]
}