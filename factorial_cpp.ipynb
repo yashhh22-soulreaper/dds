{
  "nbformat": 4,
  "nbformat_minor": 0,
  "metadata": {
    "colab": {
      "provenance": [],
      "authorship_tag": "ABX9TyNwcBvi2o3GOuXgL6qPnZUF",
      "include_colab_link": true
    },
    "kernelspec": {
      "name": "python3",
      "display_name": "Python 3"
    },
    "language_info": {
      "name": "python"
    }
  },
  "cells": [
    {
      "cell_type": "markdown",
      "metadata": {
        "id": "view-in-github",
        "colab_type": "text"
      },
      "source": [
        "<a href=\"https://colab.research.google.com/github/yashhh22-soulreaper/dds/blob/main/factorial_cpp.ipynb\" target=\"_parent\"><img src=\"https://colab.research.google.com/assets/colab-badge.svg\" alt=\"Open In Colab\"/></a>"
      ]
    },
    {
      "cell_type": "code",
      "execution_count": 18,
      "metadata": {
        "colab": {
          "base_uri": "https://localhost:8080/"
        },
        "id": "M7pkHHgMMehv",
        "outputId": "850cf245-b704-4af0-a273-f04ff3d04f6f"
      },
      "outputs": [
        {
          "output_type": "stream",
          "name": "stdout",
          "text": [
            "Overwriting cat.cpp\n"
          ]
        }
      ],
      "source": [
        "%%writefile cat.cpp\n",
        "\n",
        "#include <iostream>\n",
        "using namespace std;\n",
        "\n",
        "int factorial (int n) {\n",
        "  if (n == 1)\n",
        "  return 1; // base case\n",
        " else\n",
        "  return n * factorial(n-1); // recursive call\n",
        "}\n",
        "\n",
        "int main() {\n",
        "  int num = 5;\n",
        "  cout << \"Factorial of \" << num << \" is \" << factorial(num) << endl;\n",
        "  return 0;\n",
        "}\n"
      ]
    },
    {
      "cell_type": "code",
      "source": [
        "!g++ cat.cpp"
      ],
      "metadata": {
        "id": "ZU5UXBD0O7XU"
      },
      "execution_count": 16,
      "outputs": []
    },
    {
      "cell_type": "code",
      "source": [
        "!./a.out"
      ],
      "metadata": {
        "colab": {
          "base_uri": "https://localhost:8080/"
        },
        "id": "UoqzJiKJPLK-",
        "outputId": "70bccfac-2abe-423a-fad7-3b59c2741db2"
      },
      "execution_count": 17,
      "outputs": [
        {
          "output_type": "stream",
          "name": "stdout",
          "text": [
            "Factorial of 5 is 120\n"
          ]
        }
      ]
    }
  ]
}